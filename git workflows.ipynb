{
 "cells": [
  {
   "cell_type": "markdown",
   "metadata": {},
   "source": [
    "## Git workflows: Open Source and Project Based styles\n",
    "\n",
    "### Open source workflow aka how to contribute to open source\n",
    "##### First things, find a repo and how to get your code updated \n",
    "- fork the repo to your own repo\n",
    "- add a branch\n",
    " - git checkout -b \"add a new branch to add a feature\"\n",
    "- do all your coding things\n",
    "- git add .\n",
    "- git commit -m \"added my things to the feature\"\n",
    "- if you git push now, you will get an error: current branch X has no upstream branch\n",
    "- git push --set-upstream origin add-a-new-feature <--- this is the name of the branch\n",
    " - origin means remote, aka the one online\n",
    "- at this point the feature is uploaded to Git\n",
    "- go into github and then go to the Pull request tab and submit a PR\n",
    "\n",
    "\n",
    "##### Merging PR\n",
    "- once a PR has been made to your project\n",
    "- go to the gui, look at the diff, and accept to merge or deny\n",
    "\n",
    "##### After PR has been merged\n",
    "- git remote -vv\n",
    " - looks at remote repos attached to current project\n",
    "- git remote add example_origin https://github.com/etc/etc\n",
    " - this is the http url from the git clone\n",
    "- git fetch example_origin master\n",
    "- git checkout -b local-branch example_origin/master\n",
    " - creates a local branch that references the master\n",
    "- git branch -a\n",
    " - this will now show you the branches\n",
    "- git checkout master\n",
    " - back to your own master without the feature\n",
    "- git merge local-branch\n",
    " - moves branch to your own master\n",
    "- git push\n",
    " - pushes merged back up to your own repo so your repo/fork is current with original you forked"
   ]
  },
  {
   "cell_type": "code",
   "execution_count": null,
   "metadata": {
    "collapsed": true
   },
   "outputs": [],
   "source": []
  }
 ],
 "metadata": {
  "kernelspec": {
   "display_name": "Javascript (Node.js)",
   "language": "javascript",
   "name": "javascript"
  },
  "language_info": {
   "file_extension": ".js",
   "mimetype": "application/javascript",
   "name": "javascript",
   "version": "6.9.5"
  }
 },
 "nbformat": 4,
 "nbformat_minor": 2
}
