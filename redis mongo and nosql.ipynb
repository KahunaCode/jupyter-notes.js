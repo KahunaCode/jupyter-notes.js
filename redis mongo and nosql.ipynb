{
 "cells": [
  {
   "cell_type": "code",
   "execution_count": null,
   "metadata": {
    "collapsed": true
   },
   "outputs": [],
   "source": [
    "https://gist.github.com/senakamura/62c906c87d1a42503043a17ccd615e66\n",
    "http://slides.com/devleague/nosql/\n",
    "https://github.com/NodeRedis/node_redis"
   ]
  },
  {
   "cell_type": "code",
   "execution_count": null,
   "metadata": {
    "collapsed": true
   },
   "outputs": [],
   "source": [
    "node redis --  npm install --save connect-redis"
   ]
  },
  {
   "cell_type": "code",
   "execution_count": null,
   "metadata": {
    "collapsed": true
   },
   "outputs": [],
   "source": [
    "//redis ia a key value store\n",
    "\n",
    "\n",
    "//basic redis commands\n",
    "SET name \"jason\"\n",
    "GET name\n",
    "\n",
    "//returns all keys\n",
    "KEYS *\n",
    "\n",
    "//store \"object like data\" with hash set and get\n",
    "HSET human name \"ray\"\n",
    "HGET human name\n",
    ">>\"ray\"\n",
    "\n",
    "HSET human age \"12\"\n",
    "HGET human age\n",
    ">>12\n",
    "\n",
    "HKEYS human\n",
    ">>1- \"name\"\n",
    ">>2- \"age\"\n",
    "\n",
    "//increment and decrement\n",
    "set hotdogsEaten 1\n",
    "get hotdogsEaten \n",
    ">>1\n",
    "\n",
    "set hotdogsEaten 2\n",
    "get hotdogsEaten\n",
    ">>2\n",
    "\n",
    "incr hotdogsEaten\n",
    "get hotdogsEaten\n",
    ">>3\n",
    "\n",
    "decr hotdogsEaten\n",
    "get hotdogsEaten\n",
    ">>2\n",
    "    "
   ]
  },
  {
   "cell_type": "code",
   "execution_count": null,
   "metadata": {
    "collapsed": true
   },
   "outputs": [],
   "source": [
    "//mongo\n",
    "//brew update\n",
    "//brew install mongodb\n",
    "\n",
    "//brew services start mongodb\n",
    ">>mongo  //starts mongodb\n",
    ">>help  //displays all the help topics\n",
    "\n",
    ">>use hnh \n",
    "    //use the \"hnh\" database. this creates it too!\n",
    ">> show dbs\n",
    "    //shows all the databases\n",
    ">>db.images.insert({image: 'raymond.jpg'})\n",
    "    //WriteResult({\"nInserted\" :1})\n",
    ">>db.images.find()\n",
    "    //returns the object \n",
    ">>db.images.insert({image_url: \"hanks-haute.jpg\"})\n",
    "    //writes another object \n",
    ">>db.images.deleteOne({\"image\": \"raymond.jpg\"})\n",
    "    //deletes this thing\n",
    ">>db.images.count()\n",
    "    //returns count\n",
    ">>show collections\n",
    "    //shows all the collections in the db\n",
    ">>db.image.updateOne({image: 'chicago.jpg', {$set : {'isHotdog': true}}})\n",
    "    //returns ack msg with 'matchedCount': 1, 'modifiedCount;: 1\n",
    "\n"
   ]
  },
  {
   "cell_type": "code",
   "execution_count": null,
   "metadata": {
    "collapsed": true
   },
   "outputs": [],
   "source": [
    "//basic hello world for mongodb\n",
    "//sanity check: type.... node collections/photoMeta.js\n",
    "\n",
    "\"touch collections/photoMeta.js\"\n",
    "\n",
    "const mongoClient = require('mongodb').MongoClient();\n",
    "\n",
    "const mongoURL = 'mongodb://localhost:27017/galleryMeta'//27017 is default mongodb port, \n",
    "    //uri is db\n",
    "\n",
    "mongoClient.connect(mongoURL, function(err, db){\n",
    "    console.log(db);\n",
    "})\n",
    "\n",
    "\n",
    "\n"
   ]
  },
  {
   "cell_type": "code",
   "execution_count": null,
   "metadata": {
    "collapsed": true
   },
   "outputs": [],
   "source": [
    "//once sanity check done, go further\n",
    "\n",
    "const mongoClient = require('mongodb').MongoClient();\n",
    "const mongoURL = 'mongodb://localhost:27017/galleryMeta'//27017 is default mongodb port, uri is db\n",
    "\n",
    "mongoClient.connect(mongoURL, function(err, db){\n",
    "    console.log(db);\n",
    "    \n",
    "    db.collection('photoMetas').insertOne({name:'waterfalls'})\n",
    "    //in CLI .. db.photoMetas.find() <-- should show the thing you inserted\n",
    "});"
   ]
  },
  {
   "cell_type": "code",
   "execution_count": null,
   "metadata": {
    "collapsed": true
   },
   "outputs": [],
   "source": [
    "//and further\n",
    "\n",
    "const mongoClient = require('mongodb').MongoClient();\n",
    "const mongoURL = 'mongodb://localhost:27017/galleryMeta'//27017 is default mongodb port, \n",
    "    //uri is db\n",
    "\n",
    "let photoMetas = null;\n",
    "\n",
    "mongoClient.connect(mongoURL, function(err, db){\n",
    "    console.log(db);\n",
    "    \n",
    "    db.collection('photoMetas').insertOne({name:'waterfalls'})\n",
    "    //in CLI .. db.photoMetas.find() <-- should show the thing you inserted\n",
    "    photoMetas = db.collection('photoMetas')\n",
    "});\n",
    "\n",
    "module.exports = {\n",
    "    photoMetas: () => photoMetas//closure around this and exports the instance, not the value\n",
    "        //and exports the mongo method out so you can access them in the routes\n",
    "}\n",
    "\n",
    "\n",
    "//////////////////in router////////////////////////\n",
    "\n",
    "const photoMeta = require('../collections/photoMeta').photoMetas;//the dot-notation is accessing\n",
    "    //the photoMetas from the module exports. if module.exports ={apple: () => photoMetas},\n",
    "    //then it would be require('../collections/photoMeta').apple;\n",
    "\n",
    "//const {photoMeta} = require('../collecctions/photoMeta') <-- obj destructuring, same as above\n",
    "\n",
    "\n",
    "rounter.get('/', (req,res)=>{\n",
    "    //console.log('photometa= ',photoMeta().find\n",
    "    photoMeta().findOne()\n",
    "        .then(meta =>{\n",
    "            console.log(meta)\n",
    "    });\n",
    "})\n",
    "\n",
    "\n",
    "////or \n",
    "photoMeta().find().toArray(function(err, metas) {\n",
    "    console.log(metas)\n",
    "  })\n",
    "\n",
    "////or\n",
    "  photoMeta().find().toArray()\n",
    "    .then(metas => {\n",
    "      console.log(metas)\n",
    "    })\n",
    "    .catch(err => {\n",
    "      console.log(err)\n",
    "    })\n"
   ]
  },
  {
   "cell_type": "code",
   "execution_count": null,
   "metadata": {
    "collapsed": true
   },
   "outputs": [],
   "source": [
    "///doing something cool with a new photo\n",
    "\n",
    "<div class=\"add_meta_field\">\n",
    "  <ul id=\"meta_fields\"></ul>\n",
    "\n",
    "  <button id=\"add_meta_field_button\" type=\"button\" >Add Meta Data</button>\n",
    "</div>\n",
    "\n",
    "let metaObj = {\n",
    "          id: req.params.id,\n",
    "          meta: req.body.meta\n",
    "        }\n",
    "\n",
    "        photoMetas().insertOne(metaObj)\n",
    "\n",
    "photoMetas().updateOne({id: req.params.id}, {\n",
    "          $set: {\n",
    "            meta: req.body.meta\n",
    "          }\n",
    "        })"
   ]
  },
  {
   "cell_type": "markdown",
   "metadata": {},
   "source": [
    "# Basic Structure to setup MongoDB\n",
    "\n",
    "## Backend\n",
    "\n",
    "### Create a way to communciate with our mongoDB\n",
    "1. Built our mongoClient for our server\n",
    "1. Sanity Checks: \n",
    "  - Write code to talk to the db\n",
    "  - Write code to send queries to the db\n",
    "  - check mongo REPL if successful\n",
    "1. Export/expose db.collections methods/functions to our express application\n",
    "\n",
    "1. Sanity Check: \n",
    "  - Test if we can run mongo queries from our express application \n",
    "  - check mongo REPL if successful\n",
    "\n",
    "### Implement mongoDB actions into our express application to the respective routes\n",
    "1. if new photo, insert new meta tags\n",
    "  - check mongo REPL if successful\n",
    "1. if editing photo, edit meta tags respectively\n",
    "  - check mongo REPL if successful\n",
    "1. if deleting photo, delete meta tags respecitvely\n",
    "  - check mongo REPL if successful\n",
    "\n",
    "## Front-end\n",
    "\n",
    "1. metaFields.js to help build our meta tag fields in our form\n",
    "1. include metafields container in your template forms\n"
   ]
  },
  {
   "cell_type": "code",
   "execution_count": null,
   "metadata": {
    "collapsed": true
   },
   "outputs": [],
   "source": []
  }
 ],
 "metadata": {
  "kernelspec": {
   "display_name": "Javascript (Node.js)",
   "language": "javascript",
   "name": "javascript"
  },
  "language_info": {
   "file_extension": ".js",
   "mimetype": "application/javascript",
   "name": "javascript",
   "version": "6.9.5"
  }
 },
 "nbformat": 4,
 "nbformat_minor": 2
}
