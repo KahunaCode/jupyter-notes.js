{
 "cells": [
  {
   "cell_type": "markdown",
   "metadata": {},
   "source": [
    "http://slides.com/devleague/functional-arrays#/"
   ]
  },
  {
   "cell_type": "code",
   "execution_count": 1,
   "metadata": {
    "collapsed": true
   },
   "outputs": [],
   "source": [
    "//imperative programming -- save state and go to line by invoking functions. \n",
    "//top to bottom, step by step\n",
    "//Change the state as the program runs, etc\n",
    "\n",
    "//OOP encapsulates data and hides it"
   ]
  },
  {
   "cell_type": "code",
   "execution_count": null,
   "metadata": {
    "collapsed": true
   },
   "outputs": [],
   "source": [
    "//functional programming - declarative. may not even save state or have variables.\n",
    "//doesnt hide the data, transforms the data\n",
    "\n",
    "//example:\n",
    "var names = food.map( (item) => {\n",
    "    if (item.tastiness >= 50)\n",
    "        return item.name;\n",
    "});\n",
    "\n",
    "var names = food\n",
    ".filter( (item) =>{\n",
    "    return item.tastiness > = 50;\n",
    "})\n",
    ".map( (item) => {\n",
    "    return item\n",
    "})"
   ]
  },
  {
   "cell_type": "code",
   "execution_count": 4,
   "metadata": {
    "collapsed": true
   },
   "outputs": [],
   "source": [
    "var sample_text = \"Lorem ipsum dolor sit amet, consectetur adipisicing elit, sed do eiusmod \\\n",
    "tempor incididunt ut labore et dolore magna aliqua. Ut enim ad minim veniam, \\\n",
    "quis nostrud exercitation ullamco laboris nisi ut aliquip ex ea commodo \\\n",
    "consequat. Duis aute irure dolor in reprehenderit in voluptate velit esse \\\n",
    "cillum dolore eu fugiat nulla pariatur. Excepteur sint occaecat cupidatat non \\\n",
    "proident, sunt in culpa qui officia deserunt mollit anim id est laborum.\";\n",
    "\n",
    "var counter = {\n",
    "  \"a\" : 0,  \"b\" : 0,  \"c\" : 0,  \"d\" : 0,\n",
    "  \"e\" : 0,  \"f\" : 0,  \"g\" : 0,  \"h\" : 0,\n",
    "  \"i\" : 0,  \"j\" : 0,  \"k\" : 0,  \"l\" : 0,\n",
    "  \"m\" : 0,  \"n\" : 0,  \"o\" : 0,  \"p\" : 0,\n",
    "  \"q\" : 0,  \"r\" : 0,  \"s\" : 0,  \"t\" : 0,\n",
    "  \"u\" : 0,  \"v\" : 0,  \"w\" : 0,  \"x\" : 0,\n",
    "  \"y\" : 0,  \"z\" : 0\n",
    "};\n",
    "\n",
    "//pure function: every input arg will always return the same value\n",
    "//because pure functions do not produce side effects (mutate state)\n",
    "//every time you invoke the function you will get the same thing\n",
    "function toLower(letter){\n",
    "    return letter.toLowerCase()\n",
    "}\n",
    "\n",
    "function isALetter( letter ){\n",
    "    return counter.hasOwnProperty( letter )\n",
    "}\n",
    "\n",
    "function letterCounter(count, letter){\n",
    "    count[letter]++;\n",
    "    return count;\n",
    "}\n",
    "\n",
    "function countLetters(counter, sample_text){\n",
    "    sample_text.split(\"\")\n",
    "    //.map( letter => letter.toLowerCase() )\n",
    "    .map(toLower)\n",
    "    //.filter( letter => counter.hasOwnProperty(letter))\n",
    "    .filter(isALetter)\n",
    "    //.reduce( (count, letter) => {\n",
    "    //    count[letter]++;\n",
    "    //    return count;\n",
    "    //}, counter)\n",
    "    .reduce(letterCounter, counter)\n",
    "}\n",
    "\n"
   ]
  },
  {
   "cell_type": "code",
   "execution_count": null,
   "metadata": {
    "collapsed": true
   },
   "outputs": [],
   "source": [
    "// pure function, for every input arg, will always return the same value\n",
    "//   this is because pure functions do not produce side effects\n",
    "function toLowerCase( letter ){\n",
    "  return letter.toLowerCase();\n",
    "}\n",
    "\n",
    "function isALetter( letter ){\n",
    "  // true if letter is in counter\n",
    "  return counter.hasOwnProperty( letter );\n",
    "}\n",
    "\n",
    "function countLetters(counter, sample_text){\n",
    "\n",
    "  var totals = sample_text.split(\"\")\n",
    "    .map( toLowerCase )\n",
    "    .filter( isALetter )\n",
    "    .reduce( (totalLetterCounts, letter) => {\n",
    "      totalLetterCounts[letter]++;\n",
    "      return totalLetterCounts;\n",
    "    }, counter);\n",
    "\n",
    "  console.log(totals);\n",
    "}"
   ]
  },
  {
   "cell_type": "code",
   "execution_count": 6,
   "metadata": {},
   "outputs": [
    {
     "ename": "TypeError",
     "evalue": "Cannot read property 'bankBalances' of undefined",
     "output_type": "error",
     "traceback": [
      "TypeError: Cannot read property 'bankBalances' of undefined",
      "    at evalmachine.<anonymous>:3:30",
      "    at ContextifyScript.Script.runInThisContext (vm.js:25:33)",
      "    at Object.exports.runInThisContext (vm.js:77:17)",
      "    at run ([eval]:617:19)",
      "    at onRunRequest ([eval]:388:22)",
      "    at onMessage ([eval]:356:17)",
      "    at emitTwo (events.js:106:13)",
      "    at process.emit (events.js:191:7)",
      "    at process.nextTick (internal/child_process.js:744:12)",
      "    at _combinedTickCallback (internal/process/next_tick.js:67:7)"
     ]
    }
   ],
   "source": [
    "var dataset;\n",
    "\n",
    "var hundredThousand = dataset.bankBalances\n",
    "                    .filter( acct => acct.amount > 100000);"
   ]
  },
  {
   "cell_type": "code",
   "execution_count": null,
   "metadata": {
    "collapsed": true
   },
   "outputs": [],
   "source": [
    "var roundedDollar = dataset.bankBalances\n",
    "                .map( ({amount, state}) => ({\n",
    "                    amount,\n",
    "                    state,\n",
    "                    rounded : Math.round(amount)\n",
    "                }));\n",
    "\n"
   ]
  },
  {
   "cell_type": "code",
   "execution_count": null,
   "metadata": {
    "collapsed": true
   },
   "outputs": [],
   "source": [
    "var roundedDime = dataset.bankBalamces\n",
    "                    .map( ( {amount,state}))"
   ]
  },
  {
   "cell_type": "code",
   "execution_count": null,
   "metadata": {
    "collapsed": true
   },
   "outputs": [],
   "source": [
    "var sumofBankBalances = prarseFloat(dataaset.bankBalances\n",
    "        .reduce((sum, acct) => (sum + parseFloat(acct.amount)), 0)\n",
    "        .toFixed(2)\n",
    "                                    \n",
    "                                    \n",
    "                                    \n",
    "                                    //or .map( acct => ({amount: parseFloat(act.amoutn), state: acct.state}))"
   ]
  },
  {
   "cell_type": "code",
   "execution_count": null,
   "metadata": {
    "collapsed": true
   },
   "outputs": [],
   "source": [
    "var sumOfInterests= dataset.bankBalances\n",
    "                .filter( state => {\n",
    "                    return [\"WI\",\"IL\",\"WY\",].indexOf(state) > -1;\n",
    "                .map( ({amount,state}) => ({amount: parseFloat(amount), state}))\n",
    "                .reduce(sum, acct) => {\n",
    "                    return sum + ( acct.amount * 0.189)\n",
    "                }"
   ]
  },
  {
   "cell_type": "code",
   "execution_count": null,
   "metadata": {
    "collapsed": true
   },
   "outputs": [],
   "source": [
    "//better .filter \n",
    "\n",
    "//                     if(state === \"WI\" || state === \"IL\"){\n",
    "//                         return true;\n",
    "//                     }else{\n",
    "//                         return false;\n",
    "                })\n",
    "                \n",
    ".map (({amount}) => parseFloat((amount*0.189).toFixed(2)))"
   ]
  },
  {
   "cell_type": "raw",
   "metadata": {},
   "source": []
  },
  {
   "cell_type": "code",
   "execution_count": null,
   "metadata": {
    "collapsed": true
   },
   "outputs": [],
   "source": [
    "var sumOfHighInterests = ....\n",
    ".reduce(( balance, acct) => {\n",
    "    if ( !balances.hasOwnProperty(acct.state)){\n",
    "        balances[acct.state] = 0;\n",
    "    }\n",
    "    balances[acct.state] += parseFloat((acct.amount*0.189)).toFixed(2)\n",
    "    //fix to accumulate and then transform with parseFloat.toFixed(2)\n",
    "    return balances;\n",
    "}, {});"
   ]
  },
  {
   "cell_type": "code",
   "execution_count": null,
   "metadata": {
    "collapsed": true
   },
   "outputs": [],
   "source": [
    "var sumOfHighInterests = Object.keys(stateSums)\n",
    ".filter( state => [\"WI\", \"GA\"].indexOf(state) !== -1)\n",
    ".map( state => ({state, interest : stateSums[state] * 0.189)} ))\n",
    ".filter (state => stateSums[state] > 50000)\n",
    ".reduce( (sum, state) => {\n",
    "    console.log( stateSums[state] * 0.189);\n",
    "    return sum;\n",
    "}, 0)\n",
    "\n",
    "//object keys of statesums\n",
    "//filter out states\n",
    "//map states to state/interst\n",
    "//filter on 50k interest\n",
    "//reduce to total"
   ]
  },
  {
   "cell_type": "code",
   "execution_count": null,
   "metadata": {
    "collapsed": true
   },
   "outputs": [],
   "source": []
  }
 ],
 "metadata": {
  "kernelspec": {
   "display_name": "Javascript (Node.js)",
   "language": "javascript",
   "name": "javascript"
  },
  "language_info": {
   "file_extension": ".js",
   "mimetype": "application/javascript",
   "name": "javascript",
   "version": "6.9.5"
  }
 },
 "nbformat": 4,
 "nbformat_minor": 2
}
