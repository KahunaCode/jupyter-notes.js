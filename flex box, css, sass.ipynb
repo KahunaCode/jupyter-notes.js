{
 "cells": [
  {
   "cell_type": "code",
   "execution_count": null,
   "metadata": {
    "collapsed": true
   },
   "outputs": [],
   "source": [
    "//rems are normally 16pixels which refers to default body font size. 2rem = 32px.\n",
    "//if browser body font size of page changes, rem will conform as well \n",
    "\n",
    ".contain{//set overall container div to class .container and .contain\n",
    "    max-width: 1200px;\n",
    "    margin: 0 auto;\n",
    "    //setting the max width and auto margin will setup \"guttering\"\n",
    "}\n",
    "\n",
    ".container {\n",
    "    background-color: pink;\n",
    "    display: flex;\n",
    "    flex-direction: column;\n",
    "    padding: 1rem;\n",
    "    \n",
    "    @media screen and (min-width: 540px) {\n",
    "        background-color: green;\n",
    "        flex-direction: row;\n",
    "        flex-flow: wrap;\n",
    "        justify-content: center;\n",
    "    }\n",
    "    @media screen and (min-width: 800px){\n",
    "        //stuff and things for large size. 1100px also good \"large\" size\n",
    "    }\n",
    "}\n",
    "    \n",
    ".box {\n",
    "    background-color: brown;\n",
    "    width: 100%;\n",
    "    height: 10rem;\n",
    "    border 1px solid green;\n",
    "    margin: 0.5rem 0;\n",
    "    \n",
    "    img{//this is all the images inside the boxes\n",
    "        width: 100%;\n",
    "        height: 100%;\n",
    "        object-fit: cover;// fill, contain, etc. tries to keep image layout dimensions\n",
    "    }\n",
    "    \n",
    "    @media screen and (min-width: 540px) {\n",
    "        width: calc(33% - 0.5rem);\n",
    "    }\n",
    "}"
   ]
  }
 ],
 "metadata": {
  "kernelspec": {
   "display_name": "Javascript (Node.js)",
   "language": "javascript",
   "name": "javascript"
  },
  "language_info": {
   "file_extension": ".js",
   "mimetype": "application/javascript",
   "name": "javascript",
   "version": "6.9.5"
  }
 },
 "nbformat": 4,
 "nbformat_minor": 2
}
