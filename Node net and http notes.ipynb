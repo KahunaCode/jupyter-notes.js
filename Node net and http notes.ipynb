{
 "cells": [
  {
   "cell_type": "code",
   "execution_count": null,
   "metadata": {
    "collapsed": true
   },
   "outputs": [],
   "source": [
    "//uri and node net notes\n",
    "\n",
    "//process.argv to take in url/uri and find it\n",
    "\n",
    "let request = net.createConnection(80, host)\n",
    "\n",
    "request.setEncoding('utf8')\n",
    "\n",
    "request.on('connect', function(){\n",
    "    process.stdout.write('connected')\n",
    "    request.write(`GET ${URI} HTTP/1.1\\nHost: ${host}\\nConnection: Close`)\n",
    "\n",
    "})\n",
    "\n"
   ]
  },
  {
   "cell_type": "code",
   "execution_count": null,
   "metadata": {
    "collapsed": true
   },
   "outputs": [],
   "source": [
    "//using http\n",
    "\n",
    "const http = require('http');\n",
    "\n",
    "const server = http.createServer(function(req, res){\n",
    "  console.log(req.url); //req.method\n",
    "  res.write(\"hello\", 'utf8');\n",
    "  res.end(); //response back to client to tell it to end\n",
    "\n",
    "});\n",
    "\n",
    "server.listen(8080, function(){\n",
    "  console.log('server running on port 8080');\n",
    "});\n",
    "\n"
   ]
  }
 ],
 "metadata": {
  "kernelspec": {
   "display_name": "Javascript (Node.js)",
   "language": "javascript",
   "name": "javascript"
  },
  "language_info": {
   "file_extension": ".js",
   "mimetype": "application/javascript",
   "name": "javascript",
   "version": "6.9.5"
  }
 },
 "nbformat": 4,
 "nbformat_minor": 2
}
