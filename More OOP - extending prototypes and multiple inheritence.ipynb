{
 "cells": [
  {
   "cell_type": "code",
   "execution_count": null,
   "metadata": {
    "collapsed": true
   },
   "outputs": [],
   "source": [
    "//properly extending the prototype\n"
   ]
  },
  {
   "cell_type": "code",
   "execution_count": 1,
   "metadata": {},
   "outputs": [
    {
     "data": {
      "text/plain": [
       "Android {}"
      ]
     },
     "execution_count": 1,
     "metadata": {},
     "output_type": "execute_result"
    }
   ],
   "source": [
    "function Human(){\n",
    "    \n",
    "}\n",
    "\n",
    "function Android(){\n",
    "    Human.call(this)\n",
    "}\n",
    "\n",
    "Android.protype = Object.create(Human.prototype, {\n",
    "    constructor: {\n",
    "        value: Android\n",
    "    }\n",
    "})\n",
    "\n",
    "//or\n",
    "//Android.prototype.constructor = Android;"
   ]
  },
  {
   "cell_type": "code",
   "execution_count": null,
   "metadata": {
    "collapsed": true
   },
   "outputs": [],
   "source": [
    "//multiple inheritence"
   ]
  },
  {
   "cell_type": "markdown",
   "metadata": {},
   "source": [
    "http://slides.com/devleague/multiple-inheritance/"
   ]
  },
  {
   "cell_type": "code",
   "execution_count": null,
   "metadata": {
    "collapsed": true
   },
   "outputs": [],
   "source": [
    "//mixin - used for multiple inheritence, iterates over multiple objects and combines into one"
   ]
  },
  {
   "cell_type": "code",
   "execution_count": 6,
   "metadata": {
    "collapsed": true
   },
   "outputs": [],
   "source": [
    "var bulbasaur = {\n",
    "    type: \"grass\"\n",
    "}\n",
    "\n",
    "var charmander = {\n",
    "    action: 'ember',\n",
    "    personality: 'aggressive'\n",
    "}"
   ]
  },
  {
   "cell_type": "code",
   "execution_count": 2,
   "metadata": {
    "collapsed": true
   },
   "outputs": [],
   "source": [
    "function extend(destination, source) {\n",
    "  for (var k in source) {\n",
    "    if (source.hasOwnProperty(k)) {\n",
    "      destination[k] = source[k];\n",
    "    }\n",
    "  }\n",
    "  return destination; \n",
    "}"
   ]
  },
  {
   "cell_type": "code",
   "execution_count": 7,
   "metadata": {},
   "outputs": [
    {
     "data": {
      "text/plain": [
       "{ type: 'grass', action: 'ember', personality: 'aggressive' }"
      ]
     },
     "execution_count": 7,
     "metadata": {},
     "output_type": "execute_result"
    }
   ],
   "source": [
    "extend(bulbasaur, charmander)"
   ]
  },
  {
   "cell_type": "code",
   "execution_count": 8,
   "metadata": {
    "collapsed": true
   },
   "outputs": [],
   "source": [
    "var squirtle = {\n",
    "    type: \"water\",\n",
    "    evolution: \"wartortle\"\n",
    "}"
   ]
  },
  {
   "cell_type": "code",
   "execution_count": 9,
   "metadata": {},
   "outputs": [
    {
     "data": {
      "text/plain": [
       "{ type: 'water',\n",
       "  action: 'ember',\n",
       "  personality: 'aggressive',\n",
       "  evolution: 'wartortle' }"
      ]
     },
     "execution_count": 9,
     "metadata": {},
     "output_type": "execute_result"
    }
   ],
   "source": [
    "extend(bulbasaur, squirtle)"
   ]
  },
  {
   "cell_type": "markdown",
   "metadata": {},
   "source": [
    "YES, there is a better way. thanks ES6!"
   ]
  },
  {
   "cell_type": "code",
   "execution_count": null,
   "metadata": {
    "collapsed": true
   },
   "outputs": [],
   "source": [
    "//Object.assign() only works for ES6\n",
    "Taco.prototype = Object.assign(Taco.prototype, Beans.prototype)"
   ]
  }
 ],
 "metadata": {
  "kernelspec": {
   "display_name": "Javascript (Node.js)",
   "language": "javascript",
   "name": "javascript"
  },
  "language_info": {
   "file_extension": ".js",
   "mimetype": "application/javascript",
   "name": "javascript",
   "version": "6.9.5"
  }
 },
 "nbformat": 4,
 "nbformat_minor": 2
}
