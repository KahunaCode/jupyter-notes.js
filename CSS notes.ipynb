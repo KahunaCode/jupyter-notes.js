{
 "cells": [
  {
   "cell_type": "code",
   "execution_count": null,
   "metadata": {
    "collapsed": true
   },
   "outputs": [],
   "source": [
    "https://jsbin.com/xaposekazo/edit?css,output\n",
    "\n",
    ".container {\n",
    "  width: 100%;\n",
    "  height: 100%;\n",
    "  background-color: pink;\n",
    "  display: flex;\n",
    "  flex-direction: column;\n",
    "  flex-wrap: wrap;\n",
    "  justify-content: space-between;\n",
    "}\n",
    "\n",
    ".card {\n",
    "  width: 100%;\n",
    "  height: 2rem;\n",
    "  border: 1px solid red;\n",
    "  background-color: green;\n",
    "}\n",
    "\n",
    "@media screen and (min-width: 400px){\n",
    "  .container {\n",
    "    flex-direction: row;\n",
    "  }\n",
    "  \n",
    "  .card {\n",
    "    width: calc(50% - 1rem )\n",
    "  }\n",
    "}"
   ]
  }
 ],
 "metadata": {
  "kernelspec": {
   "display_name": "Javascript (Node.js)",
   "language": "javascript",
   "name": "javascript"
  },
  "language_info": {
   "file_extension": ".js",
   "mimetype": "application/javascript",
   "name": "javascript",
   "version": "6.9.5"
  }
 },
 "nbformat": 4,
 "nbformat_minor": 2
}
