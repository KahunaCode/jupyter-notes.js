{
 "cells": [
  {
   "cell_type": "code",
   "execution_count": 2,
   "metadata": {},
   "outputs": [
    {
     "name": "stdout",
     "output_type": "stream",
     "text": [
      "10\n",
      "9\n",
      "8\n",
      "7\n",
      "6\n",
      "5\n",
      "4\n",
      "3\n",
      "2\n",
      "1\n",
      "finishing the call 0\n",
      "finishing the call 1\n",
      "finishing the call 2\n",
      "finishing the call 3\n",
      "finishing the call 4\n",
      "finishing the call 5\n",
      "finishing the call 6\n",
      "finishing the call 7\n",
      "finishing the call 8\n",
      "finishing the call 9\n"
     ]
    }
   ],
   "source": [
    "//allowing a function to call itself from within it's function scope\n",
    "\n",
    "//http://slides.com/devleague/recursion#/\n",
    "\n",
    "var recursify = function(num){\n",
    "    //base case\n",
    "    if (num === 0){\n",
    "        return;\n",
    "    }\n",
    "    console.log(num)\n",
    "    recursify(--num)\n",
    "    console.log(\"finishing the call\", num)\n",
    "};\n",
    "\n",
    "recursify(10)"
   ]
  },
  {
   "cell_type": "code",
   "execution_count": null,
   "metadata": {
    "collapsed": true
   },
   "outputs": [],
   "source": []
  }
 ],
 "metadata": {
  "kernelspec": {
   "display_name": "Javascript (Node.js)",
   "language": "javascript",
   "name": "javascript"
  },
  "language_info": {
   "file_extension": ".js",
   "mimetype": "application/javascript",
   "name": "javascript",
   "version": "6.9.5"
  }
 },
 "nbformat": 4,
 "nbformat_minor": 2
}
