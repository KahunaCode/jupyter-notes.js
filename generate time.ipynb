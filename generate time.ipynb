{
 "cells": [
  {
   "cell_type": "code",
   "execution_count": null,
   "metadata": {
    "collapsed": true
   },
   "outputs": [],
   "source": [
    "//https://developer.mozilla.org/en-US/docs/Web/JavaScript/Reference/Global_Objects/Date"
   ]
  },
  {
   "cell_type": "code",
   "execution_count": null,
   "metadata": {
    "collapsed": true
   },
   "outputs": [],
   "source": [
    "function timeNow(){\n",
    "    var currentDate = new Date();\n",
    "    var day = currentDate.getDate();\n",
    "    var month = currentDate.getMonth() + 1;\n",
    "    var year = currentDate.getFullYear();\n",
    "    var hour = currentDate.getHours();\n",
    "    var min = currentDate.getMinutes();\n",
    "    var sec = currentDate.getSeconds();\n",
    "    return day +\"/\"+ month+ \"/\" + year + \" \" + hour + \":\" + min + \":\" + sec;\n",
    "}"
   ]
  }
 ],
 "metadata": {
  "kernelspec": {
   "display_name": "Javascript (Node.js)",
   "language": "javascript",
   "name": "javascript"
  },
  "language_info": {
   "file_extension": ".js",
   "mimetype": "application/javascript",
   "name": "javascript",
   "version": "6.9.5"
  }
 },
 "nbformat": 4,
 "nbformat_minor": 2
}
