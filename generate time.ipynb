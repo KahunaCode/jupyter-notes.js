{
 "cells": [
  {
   "cell_type": "markdown",
   "metadata": {},
   "source": [
    "https://developer.mozilla.org/en-US/docs/Web/JavaScript/Reference/Global_Objects/Date"
   ]
  },
  {
   "cell_type": "code",
   "execution_count": 6,
   "metadata": {},
   "outputs": [
    {
     "data": {
      "text/plain": [
       "'Sat, 08 Jul 2017 19:06:22 GMT'"
      ]
     },
     "execution_count": 6,
     "metadata": {},
     "output_type": "execute_result"
    }
   ],
   "source": [
    "//generate time in RFC1123 format\n",
    "new Date().toUTCString()"
   ]
  },
  {
   "cell_type": "code",
   "execution_count": 2,
   "metadata": {
    "collapsed": true
   },
   "outputs": [],
   "source": [
    "//return formatted time function\n",
    "function timeNow(){\n",
    "    var currentDate = new Date();\n",
    "    var day = currentDate.getDate();\n",
    "    var month = currentDate.getMonth() + 1;\n",
    "    var year = currentDate.getFullYear();\n",
    "    var hour = currentDate.getHours();\n",
    "    var min = currentDate.getMinutes();\n",
    "    var sec = currentDate.getSeconds();\n",
    "    return day +\"/\"+ month+ \"/\" + year + \" \" + hour + \":\" + min + \":\" + sec;\n",
    "}"
   ]
  },
  {
   "cell_type": "code",
   "execution_count": null,
   "metadata": {
    "collapsed": true
   },
   "outputs": [],
   "source": []
  }
 ],
 "metadata": {
  "kernelspec": {
   "display_name": "Javascript (Node.js)",
   "language": "javascript",
   "name": "javascript"
  },
  "language_info": {
   "file_extension": ".js",
   "mimetype": "application/javascript",
   "name": "javascript",
   "version": "6.9.5"
  }
 },
 "nbformat": 4,
 "nbformat_minor": 2
}
