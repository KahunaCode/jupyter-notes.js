{
 "cells": [
  {
   "cell_type": "code",
   "execution_count": 1,
   "metadata": {
    "collapsed": true
   },
   "outputs": [],
   "source": [
    "//http://slides.com/devleague/functional-arrays/live\n",
    "\n",
    "//mutator and accessor array methods\n",
    "//iterator methods help you not use for loops"
   ]
  },
  {
   "cell_type": "code",
   "execution_count": 2,
   "metadata": {},
   "outputs": [
    {
     "name": "stdout",
     "output_type": "stream",
     "text": [
      "pizza\n",
      "taco\n",
      "cereal\n",
      "donut\n",
      "pineapple\n",
      "rice\n"
     ]
    }
   ],
   "source": [
    "//forEach -- calls function which takes 3 parameters: element, index, array\n",
    "\n",
    "var food = [\"pizza\", \"taco\", \"cereal\", \"donut\", \"pineapple\", \"rice\"];\n",
    "food.forEach(function(item){\n",
    "    console.log(item)\n",
    "})"
   ]
  },
  {
   "cell_type": "code",
   "execution_count": 33,
   "metadata": {},
   "outputs": [],
   "source": [
    "var nums = [9,1,3,5,6,12,4,2]\n",
    "\n",
    "nums.forEach(function(item){\n",
    "    return item\n",
    "})"
   ]
  },
  {
   "cell_type": "code",
   "execution_count": 32,
   "metadata": {},
   "outputs": [
    {
     "data": {
      "text/plain": [
       "2"
      ]
     },
     "execution_count": 32,
     "metadata": {},
     "output_type": "execute_result"
    }
   ],
   "source": []
  },
  {
   "cell_type": "code",
   "execution_count": null,
   "metadata": {
    "collapsed": true
   },
   "outputs": [],
   "source": [
    "\n",
    "\n",
    "food.forEach(function(item, idx){\n",
    "    console.log(item)\n",
    "    console.log(idx)\n",
    "})"
   ]
  },
  {
   "cell_type": "code",
   "execution_count": 5,
   "metadata": {},
   "outputs": [
    {
     "name": "stdout",
     "output_type": "stream",
     "text": [
      "pizza\n",
      "rabbit\n",
      "deer\n"
     ]
    }
   ],
   "source": [
    "var food2 = [\"pizza\", \"rabbit\", 23, \"deer\"]\n",
    "food2.forEach(function(item){\n",
    "    if (typeof item !== \"string\"){\n",
    "        return false;\n",
    "    }else{\n",
    "        console.log(item);\n",
    "    }\n",
    "})"
   ]
  },
  {
   "cell_type": "code",
   "execution_count": 6,
   "metadata": {},
   "outputs": [
    {
     "data": {
      "text/plain": [
       "true"
      ]
     },
     "execution_count": 6,
     "metadata": {},
     "output_type": "execute_result"
    }
   ],
   "source": [
    "//every -- if everything in element is true, it returns... else return false\n",
    "food.every(function(item){\n",
    "    return typeof item === \"string\"\n",
    "})"
   ]
  },
  {
   "cell_type": "code",
   "execution_count": 7,
   "metadata": {},
   "outputs": [
    {
     "data": {
      "text/plain": [
       "false"
      ]
     },
     "execution_count": 7,
     "metadata": {},
     "output_type": "execute_result"
    }
   ],
   "source": [
    "food2.every(function(item){\n",
    "    return typeof item === \"string\"\n",
    "})"
   ]
  },
  {
   "cell_type": "code",
   "execution_count": 8,
   "metadata": {},
   "outputs": [
    {
     "data": {
      "text/plain": [
       "true"
      ]
     },
     "execution_count": 8,
     "metadata": {},
     "output_type": "execute_result"
    }
   ],
   "source": [
    "//some -- returns true if ANY element in the array is true\n",
    "food2.some(function(item){\n",
    "    return typeof item === \"number\"\n",
    "})"
   ]
  },
  {
   "cell_type": "code",
   "execution_count": 9,
   "metadata": {},
   "outputs": [
    {
     "data": {
      "text/plain": [
       "[ 43, 17, 22, 7, 42 ]"
      ]
     },
     "execution_count": 9,
     "metadata": {},
     "output_type": "execute_result"
    }
   ],
   "source": [
    "//filter -- creates and returns a new array of everything that passes true test\n",
    "var numbers = [2, 43, 17, 22, 7, 42, 3, 2, 1]\n",
    "\n",
    "numbers.filter(function(num){\n",
    "    return num > 5;\n",
    "})\n"
   ]
  },
  {
   "cell_type": "code",
   "execution_count": 10,
   "metadata": {},
   "outputs": [
    {
     "data": {
      "text/plain": [
       "[ 'james' ]"
      ]
     },
     "execution_count": 10,
     "metadata": {},
     "output_type": "execute_result"
    }
   ],
   "source": [
    "var jumble = [\"pickle\", 42, \"james\"]\n",
    "jumble.filter(function(element){\n",
    "    return typeof element === \"string\" && element.length === 5;\n",
    "})"
   ]
  },
  {
   "cell_type": "code",
   "execution_count": 11,
   "metadata": {},
   "outputs": [
    {
     "data": {
      "text/plain": [
       "[ 42 ]"
      ]
     },
     "execution_count": 11,
     "metadata": {},
     "output_type": "execute_result"
    }
   ],
   "source": [
    "jumble.filter(function(element){\n",
    "    return typeof element === \"number\" && element%2 === 0;\n",
    "})"
   ]
  },
  {
   "cell_type": "code",
   "execution_count": 12,
   "metadata": {},
   "outputs": [
    {
     "data": {
      "text/plain": [
       "[ 'awesome pizza',\n",
       "  'awesome taco',\n",
       "  'awesome cereal',\n",
       "  'awesome donut',\n",
       "  'awesome pineapple',\n",
       "  'awesome rice' ]"
      ]
     },
     "execution_count": 12,
     "metadata": {},
     "output_type": "execute_result"
    }
   ],
   "source": [
    "//map -- returns new array with ALL values passed through function\n",
    "food.map(function(item){\n",
    "    return \"awesome \"+item\n",
    "})"
   ]
  },
  {
   "cell_type": "code",
   "execution_count": 13,
   "metadata": {},
   "outputs": [
    {
     "data": {
      "text/plain": [
       "[ 5, 4, 6, 5, 9, 4 ]"
      ]
     },
     "execution_count": 13,
     "metadata": {},
     "output_type": "execute_result"
    }
   ],
   "source": [
    "food.map(function(item){\n",
    "    return item.length\n",
    "})"
   ]
  },
  {
   "cell_type": "code",
   "execution_count": 14,
   "metadata": {},
   "outputs": [
    {
     "data": {
      "text/plain": [
       "[ 'lol', 'lol', 'lol', 'lol', 'lol', 'lol' ]"
      ]
     },
     "execution_count": 14,
     "metadata": {},
     "output_type": "execute_result"
    }
   ],
   "source": [
    "//you will always get the same amount of elements even if totally different\n",
    "food.map(function(item){\n",
    "    return \"lol\"\n",
    "})"
   ]
  },
  {
   "cell_type": "code",
   "execution_count": 16,
   "metadata": {},
   "outputs": [
    {
     "data": {
      "text/plain": [
       "[ '0 pizza',\n",
       "  '1 taco',\n",
       "  '2 cereal',\n",
       "  '3 donut',\n",
       "  '4 pineapple',\n",
       "  '5 rice' ]"
      ]
     },
     "execution_count": 16,
     "metadata": {},
     "output_type": "execute_result"
    }
   ],
   "source": [
    "food.map(function(item, idx){\n",
    "    return idx + \" \" + item\n",
    "})"
   ]
  },
  {
   "cell_type": "code",
   "execution_count": 18,
   "metadata": {},
   "outputs": [
    {
     "data": {
      "text/plain": [
       "[ { name: 'pizza' },\n",
       "  { name: 'taco' },\n",
       "  { name: 'cereal' },\n",
       "  { name: 'donut' },\n",
       "  { name: 'pineapple' },\n",
       "  { name: 'rice' } ]"
      ]
     },
     "execution_count": 18,
     "metadata": {},
     "output_type": "execute_result"
    }
   ],
   "source": [
    "food.map(function(item){\n",
    "    return {\n",
    "        name: item\n",
    "    }\n",
    "})"
   ]
  },
  {
   "cell_type": "code",
   "execution_count": 24,
   "metadata": {},
   "outputs": [
    {
     "name": "stdout",
     "output_type": "stream",
     "text": [
      "prev val 0\n",
      "current number 1\n",
      "prev val 1\n",
      "current number 2\n",
      "prev val 3\n",
      "current number 3\n",
      "prev val 6\n",
      "current number 4\n"
     ]
    },
    {
     "data": {
      "text/plain": [
       "10"
      ]
     },
     "execution_count": 24,
     "metadata": {},
     "output_type": "execute_result"
    }
   ],
   "source": [
    "//reduce -- returns single value\n",
    "var numbers2 = [1,2,3,4]\n",
    "\n",
    "numbers2.reduce(function(initialVal, num){\n",
    "    console.log('prev val', initialVal)\n",
    "    console.log(\"current number\", num)\n",
    "    return initialVal + num\n",
    "    //console.log(initialVal)\n",
    "    //console.log(num)\n",
    "}, 0)"
   ]
  },
  {
   "cell_type": "code",
   "execution_count": 26,
   "metadata": {},
   "outputs": [
    {
     "name": "stdout",
     "output_type": "stream",
     "text": [
      "prev val 1\n",
      "current number 2\n",
      "prev val 3\n",
      "current number 3\n",
      "prev val 6\n",
      "current number 4\n"
     ]
    },
    {
     "data": {
      "text/plain": [
       "10"
      ]
     },
     "execution_count": 26,
     "metadata": {},
     "output_type": "execute_result"
    }
   ],
   "source": [
    "//if you dont give it a second parameter it will set index = 1\n",
    "\n",
    "numbers2.reduce(function(initialVal, num){\n",
    "    console.log('prev val', initialVal)\n",
    "    console.log(\"current number\", num)\n",
    "    return initialVal + num\n",
    "    //console.log(initialVal)\n",
    "    //console.log(num)\n",
    "    \n",
    "})//, 0)"
   ]
  },
  {
   "cell_type": "code",
   "execution_count": null,
   "metadata": {
    "collapsed": true
   },
   "outputs": [],
   "source": [
    "//reduceRight -- same as reduce, but works from the end to the beginning"
   ]
  }
 ],
 "metadata": {
  "kernelspec": {
   "display_name": "Javascript (Node.js)",
   "language": "javascript",
   "name": "javascript"
  },
  "language_info": {
   "file_extension": ".js",
   "mimetype": "application/javascript",
   "name": "javascript",
   "version": "6.9.5"
  }
 },
 "nbformat": 4,
 "nbformat_minor": 2
}
