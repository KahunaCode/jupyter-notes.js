{
 "cells": [
  {
   "cell_type": "markdown",
   "metadata": {},
   "source": [
    "XHR - xml http request  \n",
    "the async part is that you dont do a full page reload  \n",
    "xml isn't used that much, JSON better/newer  "
   ]
  },
  {
   "cell_type": "markdown",
   "metadata": {},
   "source": [
    "nice thing abt JSON over XML is that you can use it as an object and dont have to parse it  \n",
    "you can .notation and [index]"
   ]
  },
  {
   "cell_type": "markdown",
   "metadata": {},
   "source": [
    "https://developer.mozilla.org/en-US/docs/Web/API/XMLHttpRequest/Using_XMLHttpRequest"
   ]
  },
  {
   "cell_type": "markdown",
   "metadata": {},
   "source": [
    "important http request codes: 200, 301, 302, 303, 304, 400, 403, 404, 500, 502, 503, 504  \n",
    "https://gist.github.com/sgnl/11084b28e28a18ee6a64"
   ]
  },
  {
   "cell_type": "markdown",
   "metadata": {},
   "source": [
    "HTTP METHODS (CRUD- create, read, update, delete):  \n",
    "Get - i want data  \n",
    "Post - i have data to send  \n",
    "Put - i have data i want to change, entire new object  \n",
    "Patch - just a little bit to \"patch\" in  \n",
    "Delete - i want to remove data"
   ]
  },
  {
   "cell_type": "code",
   "execution_count": 2,
   "metadata": {},
   "outputs": [
    {
     "name": "stdout",
     "output_type": "stream",
     "text": [
      "sane\n"
     ]
    },
    {
     "ename": "ReferenceError",
     "evalue": "XMLHttpRequest is not defined",
     "output_type": "error",
     "traceback": [
      "ReferenceError: XMLHttpRequest is not defined",
      "    at evalmachine.<anonymous>:4:18",
      "    at evalmachine.<anonymous>:14:3",
      "    at ContextifyScript.Script.runInThisContext (vm.js:25:33)",
      "    at Object.exports.runInThisContext (vm.js:77:17)",
      "    at run ([eval]:617:19)",
      "    at onRunRequest ([eval]:388:22)",
      "    at onMessage ([eval]:356:17)",
      "    at emitTwo (events.js:106:13)",
      "    at process.emit (events.js:191:7)",
      "    at process.nextTick (internal/child_process.js:744:12)"
     ]
    }
   ],
   "source": [
    "(function(){\n",
    "  console.log(\"sane\");\n",
    "\n",
    "  var oReq = new XMLHttpRequest();\n",
    "\n",
    "  function reqListener(){\n",
    "    console.log(this.responseText);\n",
    "  }\n",
    "\n",
    "  oReq.addEventListener('load', reqListener);\n",
    "  oReq.open('GET', 'http://www.swapi.co/api/people/1');\n",
    "  oReq.send();\n",
    "\n",
    "})();"
   ]
  },
  {
   "cell_type": "code",
   "execution_count": null,
   "metadata": {
    "collapsed": true
   },
   "outputs": [],
   "source": []
  }
 ],
 "metadata": {
  "kernelspec": {
   "display_name": "Javascript (Node.js)",
   "language": "javascript",
   "name": "javascript"
  },
  "language_info": {
   "file_extension": ".js",
   "mimetype": "application/javascript",
   "name": "javascript",
   "version": "6.9.5"
  }
 },
 "nbformat": 4,
 "nbformat_minor": 2
}
