{
 "cells": [
  {
   "cell_type": "markdown",
   "metadata": {},
   "source": [
    "smaller payloads sent back and forth, without full page reloads\n",
    "    -in classical apps, it is reloading the entire page with html\n",
    "    -SPAs usually interact with JSON, although html,xml,base64 all available\n",
    "    -classical apps usually faster b/c server sends html\n",
    "    -SPAs send json/js which has to be rendered by the browser (~400ms)\n",
    "    \n",
    "\"universal\" (old term is isomorphic or SSR:server side rendering) applications are code that can run on the server and client\n",
    "\n",
    "two SPA front end frameworks: react and angular"
   ]
  },
  {
   "cell_type": "markdown",
   "metadata": {},
   "source": [
    "library: non opinionated set of tools to generate code, make own design decisions\n",
    "framework: work in their enviornment to build a tool with their tools\n",
    "SDK: software development kit- collection of frameworks/libraries. iOS, Android SDKs"
   ]
  },
  {
   "cell_type": "markdown",
   "metadata": {},
   "source": [
    "React can be used to build ALL kids of user intefaces: GUIs, webpages, etc.\n",
    "    - declarative: you tell it what you want, e.g. HTML, CSS, SQL\n",
    "    - component based: \n",
    "    - learn once, write anywhere\n",
    "    \n",
    "you need to think abt how to structure your data and your own design decisions\n",
    "react is for rendering user interfaces and cannot make an application\n",
    "react components are reusable, composable, and stateful(manage their own state)\n",
    "creates virtual representation of views in memory BEFORE rendering to DOM \n",
    "    - this is critical b/c updating DOM in browswer is the slowest part\n",
    "    - uses \"virtual DOM\"\n",
    "browser by default is an imperative API \n",
    "    doc.createElement, doc.addInnerHTML, doc.appendChild...\n",
    "    react acts as a bridge to the imperative API and allows you to code declarativly\n",
    "the structure of your data drive the structure of your components\n",
    "\"to be good at React, just be good at JavaScript\" - Samer\n",
    "    -ES6/ES7 syntax specifically"
   ]
  },
  {
   "cell_type": "code",
   "execution_count": null,
   "metadata": {
    "collapsed": true
   },
   "outputs": [],
   "source": [
    "//cdnjs -- search for the libaray you want, e.g. react\n",
    "//find the \"red\" react and click, then copy the react libary link\n",
    "//https://cdnjs.com/libraries/react <--- grab react and react-dom\n",
    "\n",
    "//you always need two parts-- a component and a react DOM render \n",
    "\n",
    "//pascal cased\n",
    "const ReactDemo = React.createElement(\n",
    "\n",
    ");\n",
    "\n",
    "//react dom render to mount your main component\n",
    "ReactDOM.render(\n",
    "\n",
    ")"
   ]
  },
  {
   "cell_type": "code",
   "execution_count": null,
   "metadata": {
    "collapsed": true
   },
   "outputs": [],
   "source": [
    "//JSX - a funny tag syntax\n",
    "//type \"jsx\" and babel will compile it to react\n",
    "//go search cdnjs for \"babel-core\" and get the latest 5-series version...\n",
    "    //in your script tag put type=\"text/babel\""
   ]
  },
  {
   "cell_type": "code",
   "execution_count": 1,
   "metadata": {
    "collapsed": true
   },
   "outputs": [],
   "source": [
    "//http://slides.com/devleague/reactjs/live\n",
    "//think of everything in the UI as a component"
   ]
  },
  {
   "cell_type": "code",
   "execution_count": 2,
   "metadata": {
    "collapsed": true
   },
   "outputs": [],
   "source": [
    "//old way\n",
    "//declare classes that render method returns\n",
    "class SimpleComponent extends React.Component{\n",
    "    render(){\n",
    "        return(\n",
    "        React.createElement('h1', {className: 'hello'}, 'Hello React'))\n",
    "    }\n",
    "}"
   ]
  },
  {
   "cell_type": "code",
   "execution_count": 3,
   "metadata": {
    "collapsed": true
   },
   "outputs": [],
   "source": [
    "//new way -- JSX\n",
    "//this is not HTML, but an XML like syntax\n"
   ]
  },
  {
   "cell_type": "code",
   "execution_count": 4,
   "metadata": {
    "collapsed": true
   },
   "outputs": [],
   "source": [
    "//PROPS - -react uses props to pass values from the parent component to its children\n",
    "    //this.prop.component -\n",
    "//state - the value you can store in the component or modify the component\n",
    "    //this.setState() <---- used to set state\n",
    "//event handlers\n",
    "//functional array methods help dynamically generate JSX"
   ]
  },
  {
   "cell_type": "code",
   "execution_count": null,
   "metadata": {
    "collapsed": true
   },
   "outputs": [],
   "source": [
    "http://slides.com/devleague/reactjs/live"
   ]
  },
  {
   "cell_type": "code",
   "execution_count": 5,
   "metadata": {
    "collapsed": true
   },
   "outputs": [],
   "source": [
    "//Lifecycle Methods - invoked right before component is rendered...\n",
    "    //componentWillMount() invokes before render() \n",
    "        //allows you do logic before render happens\n",
    "    //componentDidMount() <-- logic after the render"
   ]
  },
  {
   "cell_type": "code",
   "execution_count": 7,
   "metadata": {},
   "outputs": [],
   "source": [
    "//// aka dumbcomponent\n",
    "// simply return JSX\n",
    "const PresentationalComponent = () => {\n",
    "  return (\n",
    "    <h1>Dumb Component</h1>\n",
    "  )\n",
    "}\n",
    "\n",
    "// aka smart component\n",
    "// returns JSX and also has its own methods and state\n",
    "class Container extends Component {\n",
    "  constructor(){\n",
    "\n",
    "  }\n",
    "\n",
    "  ownNameMethods(){\n",
    "\n",
    "  }\n",
    "  render(){\n",
    "\n",
    "  }\n",
    "}https://github.com/facebookincubator/create-react-app"
   ]
  },
  {
   "cell_type": "code",
   "execution_count": null,
   "metadata": {
    "collapsed": true
   },
   "outputs": [],
   "source": [
    "const HumanContainer = ({name, age, color, buddy}) => {\n",
    "  return (\n",
    "    <div>\n",
    "      <h2>{name}</h2>\n",
    "      <h2>{age}</h2>\n",
    "      <h2>{color}</h2>\n",
    "      <h2>{buddy}</h2>\n",
    "    </div>\n",
    "  )\n",
    "}\n",
    "\n",
    "class App extends Component {\n",
    "  render() {\n",
    "    return (\n",
    "      <HumanContainer\n",
    "        name=\"Nakaz\"\n",
    "        buddy=\"Tyler\"\n",
    "        age=\"20\"\n",
    "        color=\"blue\"\n",
    "      />\n",
    "    );\n",
    "  }\n",
    "}"
   ]
  },
  {
   "cell_type": "markdown",
   "metadata": {},
   "source": [
    "file structure:\n",
    "src=\n",
    "    containers=\n",
    "        app.js\n",
    "    components=\n",
    "        movielist.js\n",
    "        movielistitem.js\n",
    "    index.js"
   ]
  }
 ],
 "metadata": {
  "kernelspec": {
   "display_name": "Javascript (Node.js)",
   "language": "javascript",
   "name": "javascript"
  },
  "language_info": {
   "file_extension": ".js",
   "mimetype": "application/javascript",
   "name": "javascript",
   "version": "6.9.5"
  }
 },
 "nbformat": 4,
 "nbformat_minor": 2
}
