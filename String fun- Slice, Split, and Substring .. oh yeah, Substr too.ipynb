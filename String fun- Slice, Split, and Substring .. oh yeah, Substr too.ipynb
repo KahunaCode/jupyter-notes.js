{
 "cells": [
  {
   "cell_type": "code",
   "execution_count": 14,
   "metadata": {},
   "outputs": [],
   "source": [
    "//slice will remove a part of a string, with positive or negative numbers, \n",
    "//and return a new string\n",
    "\n",
    "var rando = \"hello my name is james and i like coffee\"\n",
    "var name = rando.slice(17,22) //start and stop of a slice\n",
    "var elixerOfGods = rando.slice(34) //without stop, will go to end\n",
    "var bestDrink = rando.slice(-6) //neg numbers start at 1 and work back\n",
    "var delicious = rando.slice(rando.length-6) //use length property too"
   ]
  },
  {
   "cell_type": "code",
   "execution_count": 13,
   "metadata": {},
   "outputs": [
    {
     "name": "stdout",
     "output_type": "stream",
     "text": [
      "coffee\n"
     ]
    }
   ],
   "source": [
    "console.log(delicious)"
   ]
  },
  {
   "cell_type": "code",
   "execution_count": null,
   "metadata": {
    "collapsed": true
   },
   "outputs": [],
   "source": [
    "//split will take an string and return an array of strings"
   ]
  },
  {
   "cell_type": "code",
   "execution_count": null,
   "metadata": {
    "collapsed": true
   },
   "outputs": [],
   "source": [
    "//substring is not substr. why? because we couldn't just have one thing that actually worked,\n",
    "//we instead got 4 that eventually do the job"
   ]
  },
  {
   "cell_type": "code",
   "execution_count": null,
   "metadata": {
    "collapsed": true
   },
   "outputs": [],
   "source": []
  }
 ],
 "metadata": {
  "kernelspec": {
   "display_name": "Javascript (Node.js)",
   "language": "javascript",
   "name": "javascript"
  },
  "language_info": {
   "file_extension": ".js",
   "mimetype": "application/javascript",
   "name": "javascript",
   "version": "6.9.5"
  }
 },
 "nbformat": 4,
 "nbformat_minor": 2
}
