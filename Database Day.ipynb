{
 "cells": [
  {
   "cell_type": "markdown",
   "metadata": {},
   "source": [
    "https://slides.com/devleague/intro-sql\n",
    "\n",
    "https://github.com/devleague/DevLeague-Modules/blob/master/Databases/RDBMS/postgresInstall.md\n",
    "\n",
    "//RDBMS- relational database management system\n",
    "Grok list \n",
    "    -create databases, db users, tables\n",
    "    -inspect db. see users, tables, columns in table\n",
    "    -SQL queries- insert, update, delete, update, join\n",
    "    -UML diagrams\n",
    "Understand\n",
    "    -advantages and disadvantages of indexing. what it is, why and why not to do\n",
    "    -db normalization\n",
    "    -relationships"
   ]
  },
  {
   "cell_type": "code",
   "execution_count": 1,
   "metadata": {
    "collapsed": true
   },
   "outputs": [],
   "source": [
    "//sql is declarative language. i want this and it figures it out, just like css. similar to CSS\n",
    "//versus imperative where you have variables and tell it how to do things, getElementByID etc.\n",
    "//when you make the columns you also define the datatypes"
   ]
  },
  {
   "cell_type": "markdown",
   "metadata": {},
   "source": [
    "//CRUD\n",
    "Create(insert) - INSERT INTO users (first_name, last_name, email, phone) VALUES ('jay', etc)\n",
    "Read(select) - SELECT * FROM users WHERE email = \"jay@stuff.com\"\n",
    "    - SELECT id, first_name FROM users WHERE email = \"stuff\"\n",
    "Update - UPDATE users SET first_name = \"jay\" WHERE id = 1\n",
    "Delete - DELETE FROM users WHERE id = 1\n"
   ]
  },
  {
   "cell_type": "markdown",
   "metadata": {},
   "source": [
    "//Aggregate Queries -AVG, COUNT, MIN, MAX, SUM\n",
    "SELECT COUNT(*) users_above_35 FROM users WHERE age > 35\n",
    "SELECT MIN(site_visits) min_visits FROM users"
   ]
  },
  {
   "cell_type": "markdown",
   "metadata": {},
   "source": [
    "Aggregate GROUP BY must have HAVING clause not WHERE"
   ]
  },
  {
   "cell_type": "markdown",
   "metadata": {},
   "source": [
    "PRIMARY KEYS - help define unique records by guaranteed uniqueness. most common is an ID column set to an auto-incrementing integer"
   ]
  },
  {
   "cell_type": "markdown",
   "metadata": {},
   "source": [
    "FOREIGN KEYS - secondary function of primary keys is that we can create relationships from other tables based on unique primary key in primary table. relationships are called constraints. Foreign key relatinships must ALWAYS match a non primary key column in one table to the primary key column of another table."
   ]
  },
  {
   "cell_type": "markdown",
   "metadata": {},
   "source": [
    "CONSTRAINTS - ensuring data doesnt get lost or lose integity\n",
    "    cascading effect - has \"cascading\" follow on effects when primary keys are modified/deleted"
   ]
  },
  {
   "cell_type": "code",
   "execution_count": null,
   "metadata": {
    "collapsed": true
   },
   "outputs": [],
   "source": [
    "JOINS - \n",
    "    Inner join - gives a set of rows with columns specified from both tables as single row\n",
    "    \n",
    "    SELECT purchases.*, user.id, user.email\n",
    "    FROM purchases\n",
    "    INNER JOIN users ON purchases.user_id = user.id\n",
    "\n",
    "    SELECT purchases.*, user.id, user.email\n",
    "    FROM purchases\n",
    "    INNER JOIN users ON purchases.user_id = user.id\n",
    "    WHERE users.id = 3"
   ]
  },
  {
   "cell_type": "markdown",
   "metadata": {},
   "source": [
    "TRANSACTIONS- series of queries you run against a db and the entire thing must work for everything to save or persist. \"All or nothing\""
   ]
  },
  {
   "cell_type": "markdown",
   "metadata": {},
   "source": [
    "ACID compliant\n",
    "Atomicity - transactions are all/nothing\n",
    "Consistency - constraints and rules preserved, reliable state\n",
    "Isolation - results of all ops in transaction are the same as if queries run individually\n",
    "Durability - once transaction complete, no data loss or changes to db"
   ]
  },
  {
   "cell_type": "markdown",
   "metadata": {
    "collapsed": true
   },
   "source": [
    "other dbs: oracle, MySQL, (MS)SQL Server, Sqlite3"
   ]
  },
  {
   "cell_type": "markdown",
   "metadata": {
    "collapsed": true
   },
   "source": [
    "HABTM - has and belongs to many\n",
    "join tables are a sign that you have hit 3NF.\n",
    "\n",
    "thinking about relationships between a blog post, tags, and topics is a good way to visualize\n",
    "\n",
    "has many  \n",
    "one-to-many  \n",
    "many-to-one  \n",
    "many-to-many  \n",
    "belongs to  \n",
    "\n",
    "one one side it will have many and the other will be many to one"
   ]
  },
  {
   "cell_type": "code",
   "execution_count": null,
   "metadata": {
    "collapsed": true
   },
   "outputs": [],
   "source": []
  }
 ],
 "metadata": {
  "kernelspec": {
   "display_name": "Javascript (Node.js)",
   "language": "javascript",
   "name": "javascript"
  },
  "language_info": {
   "file_extension": ".js",
   "mimetype": "application/javascript",
   "name": "javascript",
   "version": "6.9.5"
  }
 },
 "nbformat": 4,
 "nbformat_minor": 2
}
