{
 "cells": [
  {
   "cell_type": "code",
   "execution_count": 7,
   "metadata": {
    "collapsed": true
   },
   "outputs": [],
   "source": [
    "//http://slides.com/devleague/promises/\n",
    "//promise is used for deferred asynchronous computations... \n",
    "//represents an operation that hasn't taken place yet"
   ]
  },
  {
   "cell_type": "code",
   "execution_count": null,
   "metadata": {
    "collapsed": true
   },
   "outputs": [],
   "source": [
    "//http://slides.com/devleague/orm"
   ]
  },
  {
   "cell_type": "code",
   "execution_count": 2,
   "metadata": {
    "collapsed": true
   },
   "outputs": [],
   "source": [
    "//Three states\n",
    "// 1- Pending, not fufilled or rejected\n",
    "// 2- Fulfilled, operation completed successfully\n",
    "// 3- Rejected, the operation failed"
   ]
  },
  {
   "cell_type": "code",
   "execution_count": 3,
   "metadata": {
    "collapsed": true
   },
   "outputs": [],
   "source": [
    "//there are two promise methods, .then() and .catch(), which can be chained together\n",
    "//.then().then().then().catch()"
   ]
  },
  {
   "cell_type": "code",
   "execution_count": 4,
   "metadata": {},
   "outputs": [
    {
     "ename": "SyntaxError",
     "evalue": "Unexpected token {",
     "output_type": "error",
     "traceback": [
      "evalmachine.<anonymous>:2",
      "    return new Promise(function (resolve, reject {",
      "                                                 ^",
      "SyntaxError: Unexpected token {",
      "    at Object.exports.runInThisContext (vm.js:76:16)",
      "    at run ([eval]:617:19)",
      "    at onRunRequest ([eval]:388:22)",
      "    at onMessage ([eval]:356:17)",
      "    at emitTwo (events.js:106:13)",
      "    at process.emit (events.js:191:7)",
      "    at process.nextTick (internal/child_process.js:744:12)",
      "    at _combinedTickCallback (internal/process/next_tick.js:67:7)",
      "    at process._tickCallback (internal/process/next_tick.js:98:9)"
     ]
    }
   ],
   "source": [
    "function readFile(filename, enc){\n",
    "    return new Promise(function (resolve, reject {\n",
    "          fs.readFile(filename, enc, function(err, data{\n",
    "              if (err) reject(err);\n",
    "              else resolve(data);\n",
    "          }))\n",
    "      }))\n",
    "}"
   ]
  },
  {
   "cell_type": "code",
   "execution_count": 5,
   "metadata": {},
   "outputs": [
    {
     "data": {
      "text/plain": [
       "Promise { <pending> }"
      ]
     },
     "execution_count": 5,
     "metadata": {},
     "output_type": "execute_result"
    },
    {
     "name": "stdout",
     "output_type": "stream",
     "text": [
      "cannot find url\n"
     ]
    }
   ],
   "source": [
    "//basic resolve/reject of a Promise\n",
    "function callAPI(url){\n",
    "  return new Promise ((resolve,reject) => {\n",
    "    //resolve(url);\n",
    "    reject('cannot find url');\n",
    "  });\n",
    "}\n",
    "\n",
    "callAPI('devleague.com')\n",
    "  .then((data) => {\n",
    "    console.log(data);\n",
    "  })\n",
    "  .catch((err) => {\n",
    "    console.log(err);\n",
    "  })"
   ]
  },
  {
   "cell_type": "code",
   "execution_count": 6,
   "metadata": {},
   "outputs": [
    {
     "name": "stdout",
     "output_type": "stream",
     "text": [
      "the very end\n",
      "first thenable\n",
      "second thenable\n",
      "GET devleague.com was ok\n"
     ]
    }
   ],
   "source": [
    "function callAPI(url){\n",
    "  return new Promise ((resolve,reject) => {\n",
    "    setTimeout(function(){\n",
    "      resolve(url)\n",
    "    }, 2000)\n",
    "    //reject('cannot find url');\n",
    "  });\n",
    "}\n",
    "\n",
    "callAPI('devleague.com')\n",
    "  .then((data) => {\n",
    "    //console.log(data);\n",
    "    console.log('first thenable')\n",
    "    return `GET ${data} was ok`;\n",
    "  })\n",
    "  .then((status) => {\n",
    "    console.log('second thenable')\n",
    "    console.log(status);\n",
    "  })\n",
    "  .catch((err) => {\n",
    "    console.log(err);\n",
    "  })\n",
    "\n",
    "console.log('the very end')"
   ]
  },
  {
   "cell_type": "code",
   "execution_count": 8,
   "metadata": {
    "collapsed": true
   },
   "outputs": [],
   "source": [
    "//Promise and sql\n",
    "//npm install --save pg-promise\n"
   ]
  },
  {
   "cell_type": "code",
   "execution_count": 9,
   "metadata": {
    "collapsed": true
   },
   "outputs": [],
   "source": [
    "//http://slides.com/devleague/orm\n",
    "\n",
    "//ORM and sequalize-- ORM is a way of mapping bedtween object and relational databases\n",
    "//benefits: \n",
    "    //producivity: OOP, Validation, no need to write SQL, can catch your errors before you run them\n",
    "    //performance: cache objects, lazy/eager loading, lazy updating\n",
    "    //Portability: different SQL dialiects\n",
    "    //Protection: sanitizes data, escapes data, and helps against SQL injection attacks\n",
    "\n",
    "//disdvantages:\n",
    "    //can add complexity and potential processing overhead\n",
    "    //ORM might dictate DB design\n",
    "\n",
    "\n"
   ]
  },
  {
   "cell_type": "code",
   "execution_count": null,
   "metadata": {
    "collapsed": true
   },
   "outputs": [],
   "source": [
    "//npm install --save sequelize\n",
    "//npm install --save pg pg-hstore\n",
    "    //pg is 'node postgres'. allows node to talk to postgres\n",
    "    //pg-hstore is package for serializing and deserializing JSON data to hstore format\n",
    "\n",
    "//sequalize\n",
    "//sequalize init  <--- this builds sequalize's config files\n",
    "\n",
    "//make sure to add config/config.json to .gitignore"
   ]
  }
 ],
 "metadata": {
  "kernelspec": {
   "display_name": "Javascript (Node.js)",
   "language": "javascript",
   "name": "javascript"
  },
  "language_info": {
   "file_extension": ".js",
   "mimetype": "application/javascript",
   "name": "javascript",
   "version": "6.9.5"
  }
 },
 "nbformat": 4,
 "nbformat_minor": 2
}
