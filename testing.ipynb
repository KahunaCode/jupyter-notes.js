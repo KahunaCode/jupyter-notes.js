{
 "cells": [
  {
   "cell_type": "code",
   "execution_count": 1,
   "metadata": {
    "collapsed": true
   },
   "outputs": [],
   "source": [
    "let user = {'phone': '8319150199',\n",
    "           'location': {\n",
    "               'lat': '21.3069',\n",
    "               'lon': '157.8583'\n",
    "           }}"
   ]
  },
  {
   "cell_type": "code",
   "execution_count": 9,
   "metadata": {},
   "outputs": [
    {
     "name": "stdout",
     "output_type": "stream",
     "text": [
      "21\n"
     ]
    }
   ],
   "source": [
    "console.log(user.location.lat.split('.')[0])"
   ]
  },
  {
   "cell_type": "code",
   "execution_count": null,
   "metadata": {
    "collapsed": true
   },
   "outputs": [],
   "source": [
    "`select phone, lat, lon from \"Users\" \n",
    "where 'lat' like ${user.location.lat.split('.')[0]} \n",
    "and\n",
    "'lon' like ${user.location.lon.split('.')[0]}`"
   ]
  },
  {
   "cell_type": "code",
   "execution_count": null,
   "metadata": {},
   "outputs": [],
   "source": [
    "\n",
    "\n",
    "function compareLocation(user){\n",
    "    User.findall{[\n",
    "        attributes: ['phone', 'lat', 'lon'],\n",
    "        where: {\n",
    "            lat.like : `${user.location.lat.split('.')[0]}`,\n",
    "            lon.like : `${user.location.lon.split('.')[0]}`\n",
    "        }\n",
    "    ]}\n",
    "}"
   ]
  },
  {
   "cell_type": "code",
   "execution_count": null,
   "metadata": {
    "collapsed": true
   },
   "outputs": [],
   "source": [
    "// sequelize.query(\"SELECT * FROM `users`\", { type: sequelize.QueryTypes.SELECT})\n",
    "//   .then(users => {\n",
    "//     // We don't need spread here, since only the results will be returned for select queries\n",
    "//   })\n",
    "\n",
    "\n",
    "\n",
    "function compareLocation(user){\n",
    "    sequelize.query(\"SELECT phone, lat, lon FROM `users`\", { type: sequelize.QueryTypes.SELECT})\n",
    "        .then(users => {\n",
    "        \n",
    "    })\n",
    "}"
   ]
  }
 ],
 "metadata": {
  "kernelspec": {
   "display_name": "Javascript (Node.js)",
   "language": "javascript",
   "name": "javascript"
  },
  "language_info": {
   "file_extension": ".js",
   "mimetype": "application/javascript",
   "name": "javascript",
   "version": "6.9.5"
  }
 },
 "nbformat": 4,
 "nbformat_minor": 2
}
