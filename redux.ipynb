{
 "cells": [
  {
   "cell_type": "markdown",
   "metadata": {},
   "source": [
    "http://redux.js.org/  - \"predictable state container for JavaScript apps\n",
    "    -not 100% for react, but most commonly used for react. can use to handle state with any JS application\n",
    "\n",
    "http://slides.com/devleague/redux\n",
    "\n",
    "### redux is an implementation of flux (style of thinking how data flows)\n",
    "\n",
    "normal react: parent <----> child //back and forth bidirectional dataflow (reverse flow)\n",
    "    parent passes reference of State to child\n",
    "    \n",
    "redux is a state manager.\n",
    "    - instaed of parent giving reference to state, child can trigger state method. \n",
    "    - parent doesn't have to pass state to child, listens to state changes from state manager. \n",
    "    - child is triggering Actions and redux holds entire state of the application and passes it to components"
   ]
  },
  {
   "cell_type": "markdown",
   "metadata": {},
   "source": [
    "### three principles:\n",
    "    - single source of truth\n",
    "    - state is read-only\n",
    "    - changes are made with pure functions\n",
    "    \n",
    "react is simple, reducers, middleware, store enhancers are fancy talk\n",
    "\n",
    "**actions**: (think of it like an event) payloads of information that send data from your application to your store. \n",
    "\n",
    "**reducers**: determines how the state changes in response to an action\n",
    "\n",
    "**store**: just an object. holds all of your state and brings **actions** and **reducers** together\n",
    "    - holds application state\n",
    "    - allows access to state via getSTate()\n",
    "    - allows state to be updated via dispatch(action)\n",
    "    - registeres listeners via subscribe(listener)\n",
    "    - handles unregistering ...\n",
    "    \n",
    "redux is a **strict unidirectional data flow** thus data has the same lifecycle plan and logic can be easier to understand\n",
    "\n",
    "time traveling with redux: since we don't mutate the values, you can go \"back in time\" to find what the state was at a specific point in time"
   ]
  },
  {
   "cell_type": "markdown",
   "metadata": {},
   "source": [
    "### basic install for redux\n",
    "- npm install --save redux \n",
    "- npm install --save react-redux\n",
    "\n",
    "*in index.js(entry point) add*:  \n",
    "import { createStore } from 'redux';  \n",
    "import { Provider } from 'react-redux';\n",
    "\n",
    "const store = createStore();\n",
    "\n",
    "*next create two new directories: actions and reducers*  \n",
    "    - mkdir root/src/actions ... root/src/reducers and add index.js files to each"
   ]
  },
  {
   "cell_type": "markdown",
   "metadata": {},
   "source": [
    "# react notes\n",
    "### container (smarty component)\n",
    "- build containers when you need to do more than just rendering\n",
    "- hold it's own state\n",
    "- can take props (also via redux if implemented...2 ways to take props\n",
    "- access to lifecycle methods: \n",
    "    -  componentWillMount\n",
    "    -  conponentDidMount\n",
    "    -  Render!!!\n",
    "- we build as a class that extends React.Component\n",
    "\n",
    "\n",
    "### component (dummy component)\n",
    "- take props\n",
    "- render JSX (not dom, html, etc... but JSX does get evaluated to markup)\n",
    "- what is purpose? to render JSX\n"
   ]
  },
  {
   "cell_type": "code",
   "execution_count": null,
   "metadata": {
    "collapsed": true
   },
   "outputs": [],
   "source": [
    "//first setup the store\n",
    "//entry point--- index.js\n",
    "\n",
    "import { createStore } from 'redux';  \n",
    "import { Provider } from 'react-redux';\n",
    "import users from './reducers'; //this users comes in after you setup the reducer\n",
    "\n",
    "const store = createStore(users);//add users back to the store once you do reducers\n",
    "\n",
    "ReactDOM.render(\n",
    "    <Provider store={store}>\n",
    "        <App />\n",
    "    </Provider>\n",
    "\n",
    ")"
   ]
  },
  {
   "cell_type": "code",
   "execution_count": null,
   "metadata": {
    "collapsed": true
   },
   "outputs": [],
   "source": [
    "//then start making the actions\n",
    "//src/action/users.js\n",
    "\n",
    "export const ADD_USER = 'ADD_USER'\n",
    "\n",
    "export const addUser = (user) => {\n",
    "    return {\n",
    "        type: ADD_USER,\n",
    "        user: user\n",
    "    }\n",
    "}"
   ]
  },
  {
   "cell_type": "code",
   "execution_count": null,
   "metadata": {
    "collapsed": true
   },
   "outputs": [],
   "source": [
    "//then work on the reducers\n",
    "//src/reducers//index.js\n",
    "\n",
    "import { ADD_USER } from '../actions/users.js';\n",
    "\n",
    "const initialState = { users: [] }\n",
    "\n",
    "//action will always be an object with a type\n",
    "const users = {state=initialState, action} {\n",
    "    switch(action.type){\n",
    "        case ADD_USER:\n",
    "            return{\n",
    "                users: [..state.users, action.user]//returns new state object back to Store\n",
    "            }\n",
    "        default:\n",
    "            return state;\n",
    "        }\n",
    "    \n",
    "}\n",
    "\n",
    "export default users;"
   ]
  },
  {
   "cell_type": "code",
   "execution_count": null,
   "metadata": {},
   "outputs": [],
   "source": [
    "//now in app.js\n",
    "import { connect } from 'react-redux'//this allow you to connect to component store\n",
    "import { addUser } from './actions/users.js'\n",
    "\n",
    "\n",
    "//bottom \n",
    "const mapStateToProps = (state) =>{\n",
    "    return{\n",
    "        users: state.users\n",
    "    }\n",
    "}\n",
    "\n",
    "//dispatch is a method by redux that allows components to invoke action methods/functions\n",
    "//and send it through the pipeline to the reducers. \n",
    "//creating method in props object of class, takes argument and dispatches \n",
    "\n",
    "const mapDispatchToProps = (dispatch) =>{//allow componets to dispatch actions\n",
    "    return{\n",
    "        addUser: (user)=>{//addUser is name of the method in our this.props object\n",
    "            dispatch(addUser(user))//this addUser is action function imported from above\n",
    "        }\n",
    "    }\n",
    "}\n",
    "\n",
    "const ConnnectedApp = connect(\n",
    "    mapStateToProps,\n",
    "    mapDispatchToProps\n",
    ")(App)//connects App component to redux store\n",
    "export default ConnectedApp;"
   ]
  },
  {
   "cell_type": "code",
   "execution_count": null,
   "metadata": {
    "collapsed": true
   },
   "outputs": [],
   "source": [
    "//sanity check ... in render(), console.log(this.props)"
   ]
  },
  {
   "cell_type": "code",
   "execution_count": null,
   "metadata": {
    "collapsed": true
   },
   "outputs": [],
   "source": [
    "//now create a UserList component\n",
    "const UserList = ( {users} ) => {\n",
    "  console.log('UserList component', users);\n",
    "  return (\n",
    "      <div>\n",
    "        {\n",
    "          users\n",
    "        }\n",
    "      </div>\n",
    "  )\n",
    "}\n",
    "\n",
    "export default UserList;"
   ]
  },
  {
   "cell_type": "code",
   "execution_count": null,
   "metadata": {
    "collapsed": true
   },
   "outputs": [],
   "source": [
    "//then go back to App.js...\n",
    "import UserList from './components/UserList.js'\n",
    "\n",
    "class App extends Component {\n",
    "  render() {\n",
    "    console.log(this.props);\n",
    "    return (\n",
    "      <div>\n",
    "        <h1>Hello World</h1>\n",
    "        <UserList\n",
    "          users={this.props.users}//gets the state from the Store\n",
    "        />\n",
    "      </div>\n",
    "    );\n",
    "  }\n",
    "}"
   ]
  },
  {
   "cell_type": "code",
   "execution_count": null,
   "metadata": {
    "collapsed": true
   },
   "outputs": [],
   "source": [
    "//now back in UserLIst.js....\n",
    "//this will work but we're going to break out the users as components after this...\n",
    "const UserList = ( {users} ) => {\n",
    "  console.log('UserList component', users);\n",
    "  return (\n",
    "    <div>\n",
    "      {\n",
    "        users.map(user =>{\n",
    "          return (\n",
    "            <li>\n",
    "              { user }\n",
    "            </li>\n",
    "          )\n",
    "        })\n",
    "      }\n",
    "    </div>\n",
    "  )\n",
    "}\n",
    "\n",
    "export default UserList;"
   ]
  },
  {
   "cell_type": "code",
   "execution_count": null,
   "metadata": {
    "collapsed": true
   },
   "outputs": [],
   "source": [
    "//so lets break this out some more.... \n",
    "\n",
    "/////////UserItem.js\n",
    "const UserItem = ( {name} ) =>{\n",
    "  return (\n",
    "    <li>\n",
    "      { name }\n",
    "    </li>\n",
    "  )\n",
    "}\n",
    "\n",
    "/////////Updated UserList.js\n",
    "const UserList = ( {users} ) => {\n",
    "  console.log('UserList component', users);\n",
    "  return (\n",
    "    <div>\n",
    "      {\n",
    "        users.map(user =>{\n",
    "          return (\n",
    "            <UserItem name={user} />\n",
    "          )\n",
    "        })\n",
    "      }\n",
    "    </div>\n",
    "  )\n",
    "}"
   ]
  },
  {
   "cell_type": "code",
   "execution_count": null,
   "metadata": {
    "collapsed": true
   },
   "outputs": [],
   "source": [
    "//next we're going to add the \"Submit\" button \n",
    "//going to build it right in the App.js render as proof of concept, then later make a component\n",
    "//#1- console log when the submit button is hit\n",
    "//#2- keep track of user input, this will be stored in the local state NOT redux store/state\n",
    "//#3- use constructor to be able to set LOCAL initial state\n",
    "//#4- set LOCAL initial state and make a \"userInput\" state value\n",
    "//#5- now you can set the state \n",
    "//#6- now when you hit submit, you can console.log the state\n",
    "\n",
    "class App extends Component {\n",
    "    constructor(props) {//#3 build constructor with initial state\n",
    "        super();\n",
    "    \n",
    "    this.state={ //apps local state, not redux Store state\n",
    "        userInput: ''//#4- adding a new state value called userInput\n",
    "    }\n",
    "  }\n",
    "    \n",
    "    \n",
    "  submitUser(){\n",
    "    console.log('hi');//#1 console logs when the submit button is clicked\n",
    "    console.log(this.state.userInput);//#6 now you can console.log hte state\n",
    "    this.props.addUser(this.state.userInput)//addProps here b/c of mapDispatchToProps adding it to dispatch\n",
    "  }\n",
    "\n",
    "  handleNewUserInput(e){\n",
    "    console.log(e.target.value);//#2keeps track of data in submit box\n",
    "    this.setState({\n",
    "        userInput: e.target.value//#5 after initial state made in 4, you can set state \n",
    "    })\n",
    "  }\n",
    "\n",
    "  render() {\n",
    "    console.log(this.props);\n",
    "    return (\n",
    "      <div>\n",
    "        <h1>Hello World</h1>\n",
    "        <UserList\n",
    "          users={this.props.users}//gets the state from the Store\n",
    "        />\n",
    "        <input\n",
    "          type=\"text\"\n",
    "          placeholder=\"new name\"\n",
    "          onChange={this.handleNewUserInput.bind(this)}\n",
    "        />\n",
    "        <button onClick={this.submitUser.bind(this)}>Submit</button>\n",
    "\n",
    "      </div>\n",
    "    );\n",
    "  }\n",
    "}"
   ]
  },
  {
   "cell_type": "markdown",
   "metadata": {},
   "source": [
    "## reducers - \n",
    "\n",
    "#### index.js is main reducer, others are named to what they do\n",
    "\n",
    "- move index.js to users.js, amake a new index.js\n",
    "- each sub-reducer is going to be talking about the properties of the CR's object. the CR generates the object, the sub-reducer is what makes the values for that object. the key of the object comes from the export \n",
    "- when you use combinereducers, you don't need to return an entire object. CR returns the key to that value and you **can make an object of objects** b/c CR is making objects to put into the store. don't let this trip you up, look at the level of this.props for nesting\n",
    "- whatever you export \"export default varName\", the varName will be the key for the exported array etc. in the props. \n",
    "- to update the state, you must return the same type of values back to the state. With CR, you are probably returning an array so you'll need to modify the return value to return an array as well (or object, or number, or whatever)"
   ]
  },
  {
   "cell_type": "markdown",
   "metadata": {},
   "source": [
    "## async actions\n",
    "- let redux ACTIONS handle data, get data, etc and let components render data. helps segregate as much as possible\n",
    "- applyMiddleware is added to CreateStore so that any reducers are wrapped by the middleware and go through the dispatch\n",
    "- actions --> middleware/redux-thunk --> reducers. when thunk is implemented, all actions will/must go through the middleware before getting to the reducers. if redux-think recognizes a function, it will **wait** until the function returns to dispatch and then pass the data on to the reducers. "
   ]
  },
  {
   "cell_type": "markdown",
   "metadata": {},
   "source": [
    "## react router\n",
    "### front end routing != server side routing via express etc. \n",
    "- https://reacttraining.com/react-router/web/guides/philosophy\n",
    "- https://github.com/ReactTraining/react-router\n",
    "- react router allows us to render views (components) \n",
    "- big advantage is that by using < Link to> tag we don't have network requests and full page reloads. the page is only switching the views"
   ]
  },
  {
   "cell_type": "code",
   "execution_count": null,
   "metadata": {
    "collapsed": true
   },
   "outputs": [],
   "source": [
    "//setup express with /api/cards \n",
    "//  --- return JSON with all the available cards\n",
    "//in KBcards --- hte KBcards will do a get request, addCardToDB will do a post requuest to /api/cards/new\n",
    "//data store/in memory variable on the express server side...\n",
    "//ideally no data on front end, all the data is on the server side and the front end does request to get it"
   ]
  }
 ],
 "metadata": {
  "kernelspec": {
   "display_name": "Javascript (Node.js)",
   "language": "javascript",
   "name": "javascript"
  },
  "language_info": {
   "file_extension": ".js",
   "mimetype": "application/javascript",
   "name": "javascript",
   "version": "6.9.5"
  }
 },
 "nbformat": 4,
 "nbformat_minor": 2
}
