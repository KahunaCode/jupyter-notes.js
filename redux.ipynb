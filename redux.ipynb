{
 "cells": [
  {
   "cell_type": "markdown",
   "metadata": {},
   "source": [
    "http://redux.js.org/  - \"predictable state container for JavaScript apps\n",
    "    -not 100% for react, but most commonly used for react. can use to handle state with any JS application\n",
    "\n",
    "http://slides.com/devleague/redux\n",
    "\n",
    "### redux is an implementation of flux (style of thinking how data flows)\n",
    "\n",
    "normal react: parent <----> child //back and forth bidirectional dataflow (reverse flow)\n",
    "    parent passes reference of State to child\n",
    "    \n",
    "redux is a state manager.\n",
    "    - instaed of parent giving reference to state, child can trigger state method. \n",
    "    - parent doesn't have to pass state to child, listens to state changes from state manager. \n",
    "    - child is triggering Actions and redux holds entire state of the application and passes it to components"
   ]
  },
  {
   "cell_type": "markdown",
   "metadata": {},
   "source": [
    "### three principles:\n",
    "    - single source of truth\n",
    "    - state is read-only\n",
    "    - changes are made with pure functions\n",
    "    \n",
    "react is simple, reducers, middleware, store enhancers are fancy talk\n",
    "\n",
    "**actions**: (think of it like an event) payloads of information that send data from your application to your store. \n",
    "\n",
    "**reducers**: determines how the state changes in response to an action\n",
    "\n",
    "**store**: just an object. holds all of your state and brings **actions** and **reducers** together\n",
    "    - holds application state\n",
    "    - allows access to state via getSTate()\n",
    "    - allows state to be updated via dispatch(action)\n",
    "    - registeres listeners via subscribe(listener)\n",
    "    - handles unregistering ...\n",
    "    \n",
    "redux is a **strict unidirectional data flow** thus data has the same lifecycle plan and logic can be easier to understand\n",
    "\n",
    "time traveling with redux: since we don't mutate the values, you can go \"back in time\" to find what the state was at a specific point in time"
   ]
  },
  {
   "cell_type": "markdown",
   "metadata": {},
   "source": [
    "### basic install for redux\n",
    "- npm install --save redux \n",
    "- npm install --save react-redux\n",
    "\n",
    "*in index.js add*:  \n",
    "import { createStore } from 'redux';  \n",
    "import { Provider } from 'react-redux';  \n",
    "\n",
    "*next create two new directories: actions and reducers*  \n",
    "    - mkdir root/src/actions ... root/src/reducers and add index.js files to each"
   ]
  },
  {
   "cell_type": "code",
   "execution_count": null,
   "metadata": {
    "collapsed": true
   },
   "outputs": [],
   "source": []
  }
 ],
 "metadata": {
  "kernelspec": {
   "display_name": "Javascript (Node.js)",
   "language": "javascript",
   "name": "javascript"
  },
  "language_info": {
   "file_extension": ".js",
   "mimetype": "application/javascript",
   "name": "javascript",
   "version": "6.9.5"
  }
 },
 "nbformat": 4,
 "nbformat_minor": 2
}
