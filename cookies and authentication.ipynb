{
 "cells": [
  {
   "cell_type": "code",
   "execution_count": 1,
   "metadata": {
    "collapsed": true
   },
   "outputs": [],
   "source": [
    "//express package to handle sessions\n",
    "//https://github.com/expressjs/session\n",
    "\n",
    "//dont store sensative data in plain text"
   ]
  },
  {
   "cell_type": "code",
   "execution_count": 2,
   "metadata": {
    "collapsed": true
   },
   "outputs": [],
   "source": [
    "//authentication - i am who i say i am\n",
    "//authorization - i am allowed to do what i'm doing\n",
    "\n"
   ]
  },
  {
   "cell_type": "code",
   "execution_count": null,
   "metadata": {
    "collapsed": true
   },
   "outputs": [],
   "source": [
    "//PASSPORT - express middleware for authentication\n",
    "// npm install --save passport\n",
    "// npm install --save passport-local\n",
    "\n",
    "// const passport = require('passport');\n"
   ]
  },
  {
   "cell_type": "code",
   "execution_count": 4,
   "metadata": {},
   "outputs": [],
   "source": [
    "//route-- post to login\n",
    "    //success or fail via authentication middleware you write\n",
    "\n",
    "//from there goes to LoclaStrategy\n",
    "    //check values of username/password\n",
    "    //return done(null, user) \n",
    "\n",
    "//user object goes into serialize function to be added to session\n",
    "    //this gets added to the servers list of sessions\n",
    "\n",
    "//then deserialize function adds UserInformation to the request object\n",
    "\n",
    "//IF ALL 3 ARE SUCCESSFUL {\n",
    "    // goes back to original route of '/login' and allows or disallows\n",
    "//}"
   ]
  },
  {
   "cell_type": "code",
   "execution_count": null,
   "metadata": {
    "collapsed": true
   },
   "outputs": [],
   "source": [
    "// serialize = taking complex object and turning into series of chars\n",
    "// desearalize = the reverse, putting it back into complex nested object\n",
    "\n",
    "//JSON stringify and JSON parse are good examples "
   ]
  }
 ],
 "metadata": {
  "kernelspec": {
   "display_name": "Javascript (Node.js)",
   "language": "javascript",
   "name": "javascript"
  },
  "language_info": {
   "file_extension": ".js",
   "mimetype": "application/javascript",
   "name": "javascript",
   "version": "6.9.5"
  }
 },
 "nbformat": 4,
 "nbformat_minor": 2
}
