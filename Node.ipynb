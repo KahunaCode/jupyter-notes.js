{
 "cells": [
  {
   "cell_type": "markdown",
   "metadata": {},
   "source": [
    "Node is - single threaded, none blocking, asyncronous, and event driven\n",
    "\n",
    "event driven - emits and listens for events, performs actions based on them. \n",
    "single threaded - only need single core to run node. makes it lightweight, fast, efficient.\n",
    "non-blocking - everything is asynchronous, one process does not stop another\n",
    "\n",
    "\n",
    "\n",
    "npm init -  makes a new NPM package.\n",
    "\n",
    "package.json\n",
    "in scripts, this is like a bash shell. add \"test : mocha --bail --watch\" etc.\n",
    "\n",
    "\n",
    "npm install --save jquery   <--- this will download and save to the dependencies object in package.json\n",
    "npm install --save-dev mocha chai <--- this will download/save to the devDependencies"
   ]
  },
  {
   "cell_type": "code",
   "execution_count": null,
   "metadata": {
    "collapsed": true
   },
   "outputs": [],
   "source": [
    "//https://nodejs.org/dist/latest-v6.x/docs/api/fs.html\n",
    "\n",
    "console.log(\"hello\");\n",
    "\n",
    "\n",
    "const greet = require(\"./greet.js\");\n",
    "\n",
    "const fs = require(\"fs\");\n",
    "\n",
    "//make a books.txt with fav books\n",
    "\n",
    "let books = [\"harry potter\", \"the golden compass\", \"cat in the hat\", \"dark tower\", \"fifty first dates\"];\n",
    "\n",
    "let games = [\"diablo\", \"starcraft\", \"CoD\"]\n",
    "\n",
    "fs.writeFile('./books.txt', books, (err) => {\n",
    "  if (err) throw err;\n",
    "  console.log('The file has been saved!');\n",
    "  fs.exists(\"books.txt\", (exists) => {\n",
    "    if (err) throw err;\n",
    "  })\n",
    "});\n",
    "\n",
    "for (var i = 0; i < books.length; i++){\n",
    "  fs.appendFile(\"appendBooks.txt\", books[i]+\"\\n\", 'utf8', (err) => {\n",
    "    if (err) throw err;\n",
    "  });\n",
    "  // fs.appendFile(\"appendBooks.txt\", \"\\n\", \"utf8\", (err) => {\n",
    "  //   if (err) throw err;\n",
    "  // });\n",
    "}\n",
    "\n",
    "fs.writeFile(\"./games2.txt\", games.join(\"\\n\"), 'utf8', (err) => {\n",
    "  if (err) throw err;\n",
    "  fs.stat('games2.txt', (err) => {\n",
    "    if (err) throw err;\n",
    "    fs.appendFile(\"games2.txt\", \"\\njourney\", 'utf8', (err) => {\n",
    "      if (err) throw err;\n",
    "      fs.readFile(\"games2.txt\", \"utf8\", (err, data) => {\n",
    "        if (err) throw err;\n",
    "        console.log(data);\n",
    "      });\n",
    "    });\n",
    "  });\n",
    "});\n"
   ]
  },
  {
   "cell_type": "code",
   "execution_count": null,
   "metadata": {
    "collapsed": true
   },
   "outputs": [],
   "source": [
    "//events and emitters\n",
    "//https://nodejs.org/dist/latest-v6.x/docs/api/events.html\n",
    "\n",
    "//http://slides.com/devleague/debugging-nodejs#/\n",
    "\n",
    "emitter.addListener(event:String, listener,)\n",
    "\n",
    "//emit an event\n",
    "emitter.emit(event:String);\n",
    "\n",
    "//remove an event listener\n",
    "emitter.removeListener(event:String, listener:Event->Void)//listener takes in one arg, no return\n",
    "\n"
   ]
  },
  {
   "cell_type": "code",
   "execution_count": null,
   "metadata": {
    "collapsed": true
   },
   "outputs": [],
   "source": [
    "//https://slides.com/devleague/streams-in-node\n",
    "\n",
    "//streams are an abstract interface for objects that want to read, write, or read&write data\n",
    "\n",
    "//why??\n",
    "//because it is faster to work with IO bound data. buffers bit by bit, not writing to memory\n",
    "\n",
    "//all streams are instances of EventEmitter\n",
    "//\"stream classes extend EventEmitter\n",
    "//readable, writable, duplex, transform\n",
    "\n",
    "//require('stream')"
   ]
  },
  {
   "cell_type": "code",
   "execution_count": null,
   "metadata": {},
   "outputs": [],
   "source": [
    "const stream = require(\"stream\");\n",
    "//consta Readable = stream.Readable;\n",
    "const { Readable } = require(\"stream\")//object destructuring"
   ]
  },
  {
   "cell_type": "code",
   "execution_count": null,
   "metadata": {
    "collapsed": true
   },
   "outputs": [],
   "source": [
    "//pipes readable streams can be piped to writable streams\n",
    "\n",
    "// a.pipe(b)\n",
    "// b.pipe(c)\n",
    "// or\n",
    "// a.pipe(b).pipe(c)\n",
    "\n",
    "//readable streams will NOT start emitting data until something ready to read it"
   ]
  },
  {
   "cell_type": "code",
   "execution_count": null,
   "metadata": {
    "collapsed": true
   },
   "outputs": [],
   "source": [
    "\n",
    "\n",
    "process.stdin.pipe(log)"
   ]
  },
  {
   "cell_type": "code",
   "execution_count": null,
   "metadata": {
    "collapsed": true
   },
   "outputs": [],
   "source": [
    "const fs = require('fs');\n",
    "\n",
    "const pic = fs.createReadStream('~/Pictures/bunny.gif');\n",
    "\n",
    "const bunny = fs.createWriteStream('./Jennifer.gif', { flags : 'w' });\n",
    "\n",
    "pic.pipe( bunny );\n",
    "\n",
    "// same as\n",
    "\n",
    "pic.on('data', function(chunk){\n",
    "  console.log(chunk);\n",
    "  bunny.write(chunk);\n",
    "});\n",
    "pic.on('end', function(){\n",
    "  console.log(\"DONE!\");\n",
    "});\n",
    "\n",
    "pic.on('readable', () => {\n",
    "  let chunk = pic.read();\n",
    "  while( chunk != null ){\n",
    "    bunny.write(chunk);\n",
    "    chunk = pic.read();\n",
    "  }\n",
    "  bunny.end();\n",
    "  console.log(\"DONE!\");\n",
    "});\n",
    "\n",
    "const log = fs.createWriteStream('./mellanielisten.txt');\n",
    "const rand = fs.createReadStream('/dev/random');\n",
    "const log = fs.createWriteStream('./mellanielisten.txt');\n",
    "\n",
    "process.stdin.pipe( process.stdout );\n",
    "process.stdin.pipe( log );\n",
    "rand.pipe( log );"
   ]
  }
 ],
 "metadata": {
  "kernelspec": {
   "display_name": "Javascript (Node.js)",
   "language": "javascript",
   "name": "javascript"
  },
  "language_info": {
   "file_extension": ".js",
   "mimetype": "application/javascript",
   "name": "javascript",
   "version": "6.9.5"
  }
 },
 "nbformat": 4,
 "nbformat_minor": 2
}
