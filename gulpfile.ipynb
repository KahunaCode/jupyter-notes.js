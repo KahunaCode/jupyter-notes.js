{
 "cells": [
  {
   "cell_type": "markdown",
   "metadata": {},
   "source": [
    "set gulp.watch directories to watch files"
   ]
  },
  {
   "cell_type": "code",
   "execution_count": null,
   "metadata": {
    "collapsed": true
   },
   "outputs": [],
   "source": [
    "var gulp = require('gulp')\n",
    "var scss = require('gulp-sass')\n",
    "var browserSync = require('browser-sync').create()\n",
    "\n",
    "browserSync.init({\n",
    "    server: {\n",
    "        baseDir: \"./public\"\n",
    "    }\n",
    "});\n",
    "\n",
    "gulp.task('scss', function () {\n",
    "  return gulp.src('./scss/*.scss')\n",
    "    .pipe(scss())\n",
    "    .pipe(gulp.dest('./public/css'));\n",
    "});\n",
    "\n",
    "gulp.task('watch', function (){\n",
    "  gulp.watch('./scss/**/*', ['scss'])\n",
    "  gulp.watch('./public/**/*').on('change', browserSync.reload);\n",
    "})\n",
    "\n",
    "gulp.task('default', ['watch']);\n"
   ]
  }
 ],
 "metadata": {
  "kernelspec": {
   "display_name": "Javascript (Node.js)",
   "language": "javascript",
   "name": "javascript"
  },
  "language_info": {
   "file_extension": ".js",
   "mimetype": "application/javascript",
   "name": "javascript",
   "version": "6.9.5"
  }
 },
 "nbformat": 4,
 "nbformat_minor": 2
}
