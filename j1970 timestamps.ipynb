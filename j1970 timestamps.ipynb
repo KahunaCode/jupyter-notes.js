{
 "cells": [
  {
   "cell_type": "code",
   "execution_count": 4,
   "metadata": {},
   "outputs": [],
   "source": [
    "var unix_timestamp = 1495435195;\n",
    "//var date = new Date(1495435195*1000);\n",
    "\n",
    "var date = new Date(unix_timestamp*1000);\n",
    "// Hours part from the timestamp\n",
    "var hours = date.getHours();\n",
    "// Minutes part from the timestamp\n",
    "var minutes = \"0\" + date.getMinutes();\n",
    "// Seconds part from the timestamp\n",
    "var seconds = \"0\" + date.getSeconds();\n",
    "\n",
    "// Will display time in 10:30:23 format\n",
    "var formattedTime = hours + ':' + minutes.substr(-2) + ':' + seconds.substr(-2);\n"
   ]
  },
  {
   "cell_type": "code",
   "execution_count": 6,
   "metadata": {},
   "outputs": [
    {
     "name": "stdout",
     "output_type": "stream",
     "text": [
      "20:39:55\n"
     ]
    }
   ],
   "source": [
    "console.log(formattedTime)"
   ]
  },
  {
   "cell_type": "code",
   "execution_count": null,
   "metadata": {
    "collapsed": true
   },
   "outputs": [],
   "source": []
  }
 ],
 "metadata": {
  "kernelspec": {
   "display_name": "Javascript (Node.js)",
   "language": "javascript",
   "name": "javascript"
  },
  "language_info": {
   "file_extension": ".js",
   "mimetype": "application/javascript",
   "name": "javascript",
   "version": "6.9.5"
  }
 },
 "nbformat": 4,
 "nbformat_minor": 2
}
