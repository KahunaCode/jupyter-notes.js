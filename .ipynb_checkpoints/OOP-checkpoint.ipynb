{
 "cells": [
  {
   "cell_type": "markdown",
   "metadata": {},
   "source": [
    "OOP\n",
    "\n",
    "properties -  \n",
    "methods -  \n",
    "constructor methods -  \n",
    "accessor methods - \"getters\" and \"setters\". used to protect and access variables etc to make acccessable only to the class"
   ]
  },
  {
   "cell_type": "markdown",
   "metadata": {},
   "source": [
    "no such thing as a \"private\" variable in .js  \n"
   ]
  },
  {
   "cell_type": "code",
   "execution_count": 1,
   "metadata": {},
   "outputs": [
    {
     "data": {
      "text/plain": [
       "[Function: Human]"
      ]
     },
     "execution_count": 1,
     "metadata": {},
     "output_type": "execute_result"
    }
   ],
   "source": [
    "//accessor name\n",
    "class Human {\n",
    "    constructor(name){\n",
    "        this.name = name\n",
    "    }\n",
    "    //declare method in ES6 style, not in constructor\n",
    "    getName(){\n",
    "        return this.name\n",
    "    }\n",
    "    \n",
    "    setName(name){\n",
    "        if (typeof name !== \"string\"){\n",
    "            throw new TypeError(\"arg {name} must be a string\")\n",
    "        }\n",
    "        this.name = name\n",
    "    }\n",
    "}\n",
    "\n"
   ]
  },
  {
   "cell_type": "code",
   "execution_count": 2,
   "metadata": {
    "collapsed": true
   },
   "outputs": [],
   "source": [
    "var alice = new Human(\"alice\")\n"
   ]
  },
  {
   "cell_type": "code",
   "execution_count": 3,
   "metadata": {
    "collapsed": true
   },
   "outputs": [],
   "source": [
    "alice.setName(\"bob\")"
   ]
  },
  {
   "cell_type": "code",
   "execution_count": 4,
   "metadata": {},
   "outputs": [
    {
     "name": "stdout",
     "output_type": "stream",
     "text": [
      "bob\n"
     ]
    }
   ],
   "source": [
    "console.log(alice.getName())"
   ]
  },
  {
   "cell_type": "markdown",
   "metadata": {},
   "source": [
    "BETTER WAY WITH REAL GETS AND SETS"
   ]
  },
  {
   "cell_type": "code",
   "execution_count": 1,
   "metadata": {},
   "outputs": [
    {
     "data": {
      "text/plain": [
       "[Function: Human]"
      ]
     },
     "execution_count": 1,
     "metadata": {},
     "output_type": "execute_result"
    }
   ],
   "source": [
    "//use of gets and sets allows alice.name = \"bob\" instead of calling a method\n",
    "class Human {\n",
    "    constructor(name){\n",
    "        this.name = name\n",
    "    }\n",
    "    //declare method in ES6 style, not in constructor\n",
    "    get name(){\n",
    "        return this.name\n",
    "    }\n",
    "    \n",
    "    set name (name){\n",
    "        if (typeof name !== \"string\"){\n",
    "            throw new TypeError(\"arg must be a string\")\n",
    "        }\n",
    "        else {\n",
    "        this.name = name\n",
    "        }\n",
    "    }\n",
    "}"
   ]
  },
  {
   "cell_type": "code",
   "execution_count": 2,
   "metadata": {},
   "outputs": [
    {
     "ename": "RangeError",
     "evalue": "Maximum call stack size exceeded",
     "output_type": "error",
     "traceback": [
      "RangeError: Maximum call stack size exceeded",
      "    at Human.set name [as name] (evalmachine.<anonymous>:11:13)",
      "    at Human.set name [as name] (evalmachine.<anonymous>:16:19)",
      "    at Human.set name [as name] (evalmachine.<anonymous>:16:19)",
      "    at Human.set name [as name] (evalmachine.<anonymous>:16:19)",
      "    at Human.set name [as name] (evalmachine.<anonymous>:16:19)",
      "    at Human.set name [as name] (evalmachine.<anonymous>:16:19)",
      "    at Human.set name [as name] (evalmachine.<anonymous>:16:19)",
      "    at Human.set name [as name] (evalmachine.<anonymous>:16:19)",
      "    at Human.set name [as name] (evalmachine.<anonymous>:16:19)",
      "    at Human.set name [as name] (evalmachine.<anonymous>:16:19)"
     ]
    }
   ],
   "source": [
    "var alice = new Human(\"alice\")\n"
   ]
  }
 ],
 "metadata": {
  "kernelspec": {
   "display_name": "Javascript (Node.js)",
   "language": "javascript",
   "name": "javascript"
  },
  "language_info": {
   "file_extension": ".js",
   "mimetype": "application/javascript",
   "name": "javascript",
   "version": "6.9.5"
  }
 },
 "nbformat": 4,
 "nbformat_minor": 2
}
