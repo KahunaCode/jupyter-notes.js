{
 "cells": [
  {
   "cell_type": "markdown",
   "metadata": {},
   "source": [
    "ES5 prototype review "
   ]
  },
  {
   "cell_type": "code",
   "execution_count": 1,
   "metadata": {},
   "outputs": [
    {
     "name": "stdout",
     "output_type": "stream",
     "text": [
      "Person { name: 'bob' }\n"
     ]
    }
   ],
   "source": [
    "//declare ES5 class\n",
    "function Person(name){\n",
    "    this.name = name\n",
    "}\n",
    "\n",
    "var bob = new Person(\"bob\")\n",
    "console.log(bob)"
   ]
  },
  {
   "cell_type": "code",
   "execution_count": 2,
   "metadata": {},
   "outputs": [
    {
     "name": "stdout",
     "output_type": "stream",
     "text": [
      "undefined\n"
     ]
    }
   ],
   "source": [
    "//prototypical method declaration\n",
    "Person.prototype.sayName\n",
    "\n",
    "console.log(bob.sayName)"
   ]
  },
  {
   "cell_type": "code",
   "execution_count": 4,
   "metadata": {},
   "outputs": [
    {
     "data": {
      "text/plain": [
       "Person {}"
      ]
     },
     "execution_count": 4,
     "metadata": {},
     "output_type": "execute_result"
    }
   ],
   "source": [
    "//make subclass\n",
    "function HappyPerson(){\n",
    "    Person.call(this)\n",
    "}\n",
    "\n",
    "HappyPerson.protoype = Object.create(Person.prototype, {\n",
    "                                     constructor: HappyPerson\n",
    "                                     })"
   ]
  },
  {
   "cell_type": "markdown",
   "metadata": {},
   "source": [
    "MORE ES5 classes"
   ]
  },
  {
   "cell_type": "code",
   "execution_count": 5,
   "metadata": {},
   "outputs": [
    {
     "name": "stdout",
     "output_type": "stream",
     "text": [
      "Circle > Shape(\"mycircleid\")\n",
      "{ x: 100, y: 200 }\n"
     ]
    }
   ],
   "source": [
    "//https://gist.github.com/remarkablemark/fa62af0a2c57f5ef54226cae2258b38d\n",
    "\n",
    "\n",
    "'use strict';\n",
    "\n",
    "/**\n",
    " * Shape class.\n",
    " * \n",
    " * @constructor\n",
    " * @param {String} id - The id.\n",
    " * @param {Number} x  - The x coordinate.\n",
    " * @param {Number} y  - The y coordinate.\n",
    " */\n",
    "function Shape(id, x, y) {\n",
    "    this.id = id;\n",
    "    this.setLocation(x, y);\n",
    "}\n",
    "\n",
    "/**\n",
    " * Set shape location.\n",
    " * \n",
    " * @param {Number} - The x coordinate.\n",
    " * @param {Number} - The y coordinate.\n",
    " */\n",
    "Shape.prototype.setLocation = function(x, y) {\n",
    "    this.x = x;\n",
    "    this.y = y;\n",
    "};\n",
    "\n",
    "/**\n",
    " * Get shape location.\n",
    " * \n",
    " * @return {Object}\n",
    " */\n",
    "Shape.prototype.getLocation = function() {\n",
    "    return {\n",
    "        x: this.x,\n",
    "        y: this.y\n",
    "    };\n",
    "};\n",
    "\n",
    "/**\n",
    " * Get shape description.\n",
    " * \n",
    " * @return {String}\n",
    " */\n",
    "Shape.prototype.toString = function() {\n",
    "    return 'Shape(\"' + this.id + '\")';\n",
    "};\n",
    "\n",
    "/**\n",
    " * Circle class.\n",
    " * \n",
    " * @constructor\n",
    " * @param {String} id     - The id.\n",
    " * @param {Number} x      - The x coordinate.\n",
    " * @param {Number} y      - The y coordinate.\n",
    " * @param {Number} radius - The radius.\n",
    " */\n",
    "function Circle(id, x, y, radius) {\n",
    "    Shape.call(this, id, x, y);\n",
    "    this.radius = radius;\n",
    "}\n",
    "Circle.prototype = Object.create(Shape.prototype);\n",
    "Circle.prototype.constructor = Circle;\n",
    "\n",
    "/**\n",
    " * Get circle description.\n",
    " * \n",
    " * @return {String}\n",
    " */\n",
    "Circle.prototype.toString = function() {\n",
    "    return 'Circle > ' + Shape.prototype.toString.call(this);\n",
    "};\n",
    "\n",
    "// test the classes\n",
    "var myCircle = new Circle('mycircleid', 100, 200, 50); // create new instance\n",
    "console.log(myCircle.toString()); // Circle > Shape(\"mycircleid\")\n",
    "console.log(myCircle.getLocation()); // { x: 100, y: 200 }"
   ]
  },
  {
   "cell_type": "markdown",
   "metadata": {},
   "source": [
    "ES 6 classes"
   ]
  },
  {
   "cell_type": "code",
   "execution_count": 1,
   "metadata": {},
   "outputs": [
    {
     "data": {
      "text/plain": [
       "[Function: Human]"
      ]
     },
     "execution_count": 1,
     "metadata": {},
     "output_type": "execute_result"
    }
   ],
   "source": [
    "class Human {\n",
    "    constructor(name){\n",
    "        this.name = name\n",
    "    }\n",
    "    //declare method in ES6 style, not in constructor\n",
    "    sayName(){\n",
    "        return this.name\n",
    "    }\n",
    "}\n",
    "\n"
   ]
  },
  {
   "cell_type": "code",
   "execution_count": 7,
   "metadata": {},
   "outputs": [
    {
     "data": {
      "text/plain": [
       "[Function: Female]"
      ]
     },
     "execution_count": 7,
     "metadata": {},
     "output_type": "execute_result"
    }
   ],
   "source": [
    "class Female extends Human {\n",
    "    constructor(name){\n",
    "        super(name)\n",
    "    }\n",
    "}"
   ]
  },
  {
   "cell_type": "code",
   "execution_count": 8,
   "metadata": {},
   "outputs": [
    {
     "name": "stdout",
     "output_type": "stream",
     "text": [
      "Female { name: 'Alice' }\n"
     ]
    }
   ],
   "source": [
    "var alice = new Female(\"Alice\")\n",
    "console.log(alice)"
   ]
  },
  {
   "cell_type": "code",
   "execution_count": 10,
   "metadata": {},
   "outputs": [
    {
     "data": {
      "text/plain": [
       "'Alice'"
      ]
     },
     "execution_count": 10,
     "metadata": {},
     "output_type": "execute_result"
    }
   ],
   "source": [
    "alice.sayName()"
   ]
  },
  {
   "cell_type": "code",
   "execution_count": 1,
   "metadata": {},
   "outputs": [
    {
     "data": {
      "text/plain": [
       "[Function: Person]"
      ]
     },
     "execution_count": 1,
     "metadata": {},
     "output_type": "execute_result"
    }
   ],
   "source": [
    "class Person{\n",
    "  constructor(name, money, age, gender){\n",
    "    this.name = name;\n",
    "    this.money = money;\n",
    "    this.age = age;\n",
    "    this.gender = gender;\n",
    "  }\n",
    "  spendMoney(amt){\n",
    "    this.money -= amt;\n",
    "  }\n",
    "  earnMoney(amt){\n",
    "    this.money += amt;\n",
    "  }\n",
    " }"
   ]
  },
  {
   "cell_type": "markdown",
   "metadata": {
    "collapsed": true
   },
   "source": [
    "more ES6 classes"
   ]
  },
  {
   "cell_type": "code",
   "execution_count": null,
   "metadata": {
    "collapsed": true
   },
   "outputs": [],
   "source": [
    "//https://gist.github.com/remarkablemark/fa62af0a2c57f5ef54226cae2258b38d\n",
    "'use strict';\n",
    "\n",
    "/**\n",
    " * Shape class.\n",
    " * \n",
    " * @constructor\n",
    " * @param {String} id - The id.\n",
    " * @param {Number} x  - The x coordinate.\n",
    " * @param {Number} y  - The y coordinate.\n",
    " */\n",
    "class Shape(id, x, y) {\n",
    "    constructor(id, x, y) { // constructor syntactic sugar\n",
    "        this.id = id;\n",
    "        this.setLocation(x, y);\n",
    "    }\n",
    "    \n",
    "    /**\n",
    "     * Set shape location.\n",
    "     * \n",
    "     * @param {Number} - The x coordinate.\n",
    "     * @param {Number} - The y coordinate.\n",
    "     */\n",
    "    setLocation(x, y) { // prototype function\n",
    "        this.x = x;\n",
    "        this.y = y;\n",
    "    }\n",
    "    \n",
    "    /**\n",
    "     * Get shape location.\n",
    "     * \n",
    "     * @return {Object}\n",
    "     */\n",
    "    getLocation() {\n",
    "        return {\n",
    "            x: this.x,\n",
    "            y: this.y\n",
    "        };\n",
    "    }\n",
    "    \n",
    "    /**\n",
    "     * Get shape description.\n",
    "     * \n",
    "     * @return {String}\n",
    "     */\n",
    "    toString() {\n",
    "        return `Shape(\"${this.id}\")`;\n",
    "    }\n",
    "}\n",
    "\n",
    "/**\n",
    " * Circle class.\n",
    " * \n",
    " * @constructor\n",
    " * @param {String} id     - The id.\n",
    " * @param {Number} x      - The x coordinate.\n",
    " * @param {Number} y      - The y coordinate.\n",
    " * @param {Number} radius - The radius.\n",
    " */\n",
    "function Circle extends Shape {\n",
    "    constructor(id, x, y, radius) {\n",
    "        super(id, x, y); // call Shape's constructor via super\n",
    "        this.radius = radius;\n",
    "    }\n",
    "    \n",
    "    /**\n",
    "     * Get circle description.\n",
    "     * \n",
    "     * @return {String}\n",
    "     */\n",
    "    toString() { // override Shape's toString\n",
    "        return `Circle > ${super.toString()}`; // call `super` instead of `this` to access parent\n",
    "    }\n",
    "}\n",
    "\n",
    "// test the classes\n",
    "var myCircle = new Circle('mycircleid', 100, 200, 50); // create new instance\n",
    "console.log(myCircle.toString()); // Circle > Shape(\"mycircleid\")\n",
    "console.log(myCircle.getLocation()); // { x: 100, y: 200 }"
   ]
  }
 ],
 "metadata": {
  "kernelspec": {
   "display_name": "Javascript (Node.js)",
   "language": "javascript",
   "name": "javascript"
  },
  "language_info": {
   "file_extension": ".js",
   "mimetype": "application/javascript",
   "name": "javascript",
   "version": "6.9.5"
  }
 },
 "nbformat": 4,
 "nbformat_minor": 2
}
