{
 "cells": [
  {
   "cell_type": "markdown",
   "metadata": {},
   "source": [
    "XHR - xml http request  \n",
    "the async part is that you dont do a full page reload  \n",
    "xml isn't used that much, JSON better/newer  "
   ]
  },
  {
   "cell_type": "markdown",
   "metadata": {},
   "source": [
    "nice thing abt JSON over XML is that you can use it as an object and dont have to parse it  \n",
    "you can .notation and [index]"
   ]
  },
  {
   "cell_type": "markdown",
   "metadata": {},
   "source": [
    "https://developer.mozilla.org/en-US/docs/Web/API/XMLHttpRequest/Using_XMLHttpRequest"
   ]
  },
  {
   "cell_type": "markdown",
   "metadata": {},
   "source": [
    "important http request codes: 200, 301, 302, 303, 304, 400, 403, 404, 500, 502, 503, 504  \n",
    "https://gist.github.com/sgnl/11084b28e28a18ee6a64"
   ]
  },
  {
   "cell_type": "markdown",
   "metadata": {},
   "source": [
    "HTTP METHODS (CRUD- create, read, update, delete):  \n",
    "Get - i want data  \n",
    "Post - i have data to send  \n",
    "Put - i have data i want to change, entire new object  \n",
    "Patch - just a little bit to \"patch\" in  \n",
    "Delete - i want to remove data"
   ]
  },
  {
   "cell_type": "code",
   "execution_count": null,
   "metadata": {
    "collapsed": true
   },
   "outputs": [],
   "source": []
  }
 ],
 "metadata": {
  "kernelspec": {
   "display_name": "Javascript (Node.js)",
   "language": "javascript",
   "name": "javascript"
  },
  "language_info": {
   "file_extension": ".js",
   "mimetype": "application/javascript",
   "name": "javascript",
   "version": "6.9.5"
  }
 },
 "nbformat": 4,
 "nbformat_minor": 2
}
