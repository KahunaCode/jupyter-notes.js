{
 "cells": [
  {
   "cell_type": "code",
   "execution_count": 1,
   "metadata": {},
   "outputs": [
    {
     "ename": "Error",
     "evalue": "Cannot find module 'express'",
     "output_type": "error",
     "traceback": [
      "Error: Cannot find module 'express'",
      "    at Function.Module._resolveFilename (module.js:469:15)",
      "    at Function.Module._load (module.js:417:25)",
      "    at Module.require (module.js:497:17)",
      "    at require (internal/module.js:20:19)",
      "    at evalmachine.<anonymous>:3:16",
      "    at ContextifyScript.Script.runInThisContext (vm.js:25:33)",
      "    at Object.exports.runInThisContext (vm.js:77:17)",
      "    at run ([eval]:617:19)",
      "    at onRunRequest ([eval]:388:22)",
      "    at onMessage ([eval]:356:17)"
     ]
    }
   ],
   "source": [
    "//little pretend app\n",
    "\n",
    "const express= require('express');\n",
    "\n",
    "const app = express();\n",
    "\n",
    "const PORT = process.env.PORT || 3000;\n",
    "\n",
    "let counter = 0;\n",
    "\n",
    "app.get('/', (req, res) => {\n",
    "  res.end(counter.toString());\n",
    "});\n",
    "\n",
    "app.get('/increment', (req, res) => {\n",
    "  res.end((++counter).toString());\n",
    "});\n",
    "\n",
    "app.get('/decrement', (req, res) => {\n",
    "  res.end((--counter).toString());\n",
    "});\n",
    "\n",
    "app.listen(PORT, () => {\n",
    "  console.log(`listening on port ${PORT}`);\n",
    "});"
   ]
  },
  {
   "cell_type": "markdown",
   "metadata": {},
   "source": [
    "//brew cask install ngrok  \n",
    "//this creates a local tunnel through ngrok service  \n",
    "\n",
    "ngrok http 3000"
   ]
  },
  {
   "cell_type": "code",
   "execution_count": null,
   "metadata": {
    "collapsed": true
   },
   "outputs": [],
   "source": [
    "//Now application\n",
    "need to add     \"start\": \"node index.js\" to package.json\n",
    "then simply type \"now\""
   ]
  },
  {
   "cell_type": "code",
   "execution_count": null,
   "metadata": {},
   "outputs": [],
   "source": []
  }
 ],
 "metadata": {
  "kernelspec": {
   "display_name": "Javascript (Node.js)",
   "language": "javascript",
   "name": "javascript"
  },
  "language_info": {
   "file_extension": ".js",
   "mimetype": "application/javascript",
   "name": "javascript",
   "version": "6.9.5"
  }
 },
 "nbformat": 4,
 "nbformat_minor": 2
}
