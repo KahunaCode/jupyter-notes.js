{
 "cells": [
  {
   "cell_type": "markdown",
   "metadata": {},
   "source": [
    "http://slides.com/devleague/big-o\n",
    "\n",
    "algorithm is a set of instructions that:\n",
    " - prepare data\n",
    " - describe steps\n",
    " - return data\n"
   ]
  },
  {
   "cell_type": "markdown",
   "metadata": {},
   "source": [
    "O(1) - constant time. always exectutes in same time regardless of input data size.  \n",
    "\n",
    "e.g.accessing an array element takes constant time\n",
    "  \n",
    "O(n) - linear complexity. performance grows at direct proportion to size of input dataset.\n",
    "e.g. looping through an array\n",
    "\n",
    "O(n^2) - quadratic time, \"n squared\". performance is square of the input data set\n",
    "\n",
    "O(2^n) - growth curve is exponential. 2 to the Nth, exponential time\n",
    "\n",
    "O(log n) - log time are highly efficient, often seen with binary trees or binary search\n",
    "\n",
    "O(n^n) - \"the worst\" n-factorial "
   ]
  },
  {
   "cell_type": "markdown",
   "metadata": {},
   "source": [
    "www.sorting.at\n",
    "http://bigocheatsheet.com/"
   ]
  },
  {
   "cell_type": "code",
   "execution_count": null,
   "metadata": {
    "collapsed": true
   },
   "outputs": [],
   "source": [
    "var nums1 = [9,1,3,5,6,3,4,2]\n"
   ]
  },
  {
   "cell_type": "code",
   "execution_count": null,
   "metadata": {
    "collapsed": true
   },
   "outputs": [],
   "source": [
    "function bbs(tosort){\n",
    "    for (var i = 1; i < tosort.length; i++){\n",
    "        for (var j = 0; j < tosort.length; j++){\n",
    "            if (tosort[i] < tosort[j]) {\n",
    "                var tt = tosort[i];\n",
    "                tosort[i] = tosort[j];\n",
    "                tosort[j] = tt;\n",
    "            }\n",
    "        }\n",
    "    }\n",
    "    return tosort\n",
    "}\n",
    "\n",
    "bbs(nums1)"
   ]
  },
  {
   "cell_type": "code",
   "execution_count": null,
   "metadata": {
    "collapsed": true
   },
   "outputs": [],
   "source": [
    "function bbsW(arr){\n",
    "    var swap = true;\n",
    "    while (swap === true){\n",
    "        swap = false;\n",
    "        \n",
    "        for (var i =0; i <arr.length; i++){\n",
    "            if (arr[i] > arr[i+1]){\n",
    "                var temp = arr[i];\n",
    "                arr[i] = arr[i+1];\n",
    "                arr[i+1] = temp;\n",
    "                swap = true\n",
    "                }\n",
    "        }\n",
    "    }\n",
    "    return arr\n",
    "}\n",
    "    \n",
    "var ee = [5,3,6,7,2]\n",
    "bbsW(ee)"
   ]
  },
  {
   "cell_type": "code",
   "execution_count": null,
   "metadata": {},
   "outputs": [],
   "source": [
    "var nums = [9,1,3,5,6,12,4,2]\n",
    "\n",
    "function bbs2(aa){\n",
    "    var swap;\n",
    "    do {\n",
    "        swap = false;\n",
    "        for (var i=0; i < aa.length-1; i++) {\n",
    "            if (aa[i] > aa[i+1]) {\n",
    "                var tt = aa[i];\n",
    "                aa[i] = aa[i+1];\n",
    "                aa[i+1] = tt;\n",
    "                swap = true;\n",
    "            }\n",
    "        }\n",
    "    } while (swap);\n",
    "    return aa\n",
    "}\n",
    "\n",
    "bbs2(nums);\n",
    "//console.log(nums);"
   ]
  },
  {
   "cell_type": "code",
   "execution_count": null,
   "metadata": {
    "collapsed": true
   },
   "outputs": [],
   "source": [
    "recs = [3,8,5,2,4,7,1]\n",
    "\n",
    "for (var i=0; i<recs.length; i++){\n",
    "    for (var j=0; j<recs.length; j++){\n",
    "        if (recs[i] < recs[j]){\n",
    "            var tt = recs[i];\n",
    "            recs[i] = recs[j];\n",
    "            recs[j] = tt;\n",
    "        }   \n",
    "    }    \n",
    "}\n"
   ]
  },
  {
   "cell_type": "code",
   "execution_count": null,
   "metadata": {
    "collapsed": true
   },
   "outputs": [],
   "source": [
    "recs"
   ]
  },
  {
   "cell_type": "code",
   "execution_count": null,
   "metadata": {},
   "outputs": [],
   "source": [
    "www= [6,1,3,4,8,5]\n",
    "\n",
    "function qs(arr){\n",
    "    if (arr.length > 1){\n",
    "        var pivot = arr[0];\n",
    "        var left = [];\n",
    "        var right = [];\n",
    "        for (var i = 1; i < arr.length; i++){\n",
    "\n",
    "            if (i < pivot){\n",
    "                left.push(arr[i])\n",
    "            }\n",
    "            else{\n",
    "                right.push(arr[i])\n",
    "            }\n",
    "        }\n",
    "        return qs(left).concat(pivot, qs(right));\n",
    "\n",
    "    }\n",
    "    else {\n",
    "        return arr;\n",
    "    }\n",
    "}"
   ]
  },
  {
   "cell_type": "code",
   "execution_count": null,
   "metadata": {},
   "outputs": [],
   "source": [
    "qs(www)"
   ]
  },
  {
   "cell_type": "code",
   "execution_count": null,
   "metadata": {
    "collapsed": true
   },
   "outputs": [],
   "source": [
    "function quicksort(arr){\n",
    "    if (arr.length < 2){\n",
    "        return arr\n",
    "    }\n",
    "    else{\n",
    "        var pivot = arr[0];\n",
    "        var left = []\n",
    "        var right = []\n",
    "        for (var i = 1; i < arr.length; i++){\n",
    "\n",
    "            if (arr[i] <=pivot){\n",
    "                left.push(arr[i])\n",
    "            }else{\n",
    "                right.push(arr[i])\n",
    "            }\n",
    "\n",
    "        }return quicksort(left).concat(pivot,quicksort(right))\n",
    "    }\n",
    "}"
   ]
  },
  {
   "cell_type": "code",
   "execution_count": null,
   "metadata": {
    "collapsed": true
   },
   "outputs": [],
   "source": [
    "function anotherQS(arr){\n",
    "    if (arr.length < 2) return arr\n",
    "    \n",
    "    let pivot = arr.pop()\n",
    "    arr.reduce( (splitted, num) => {\n",
    "        if (num<pivot){\n",
    "            splitted.left.push(num);\n",
    "        }else{\n",
    "            splitted.right.push(num)\n",
    "        }\n",
    "        \n",
    "        return splitted;\n",
    "    }, {left : [], right : []});\n",
    "    \n",
    "    //return anoteherQS( groups.left).concat(pivot).concat(quickSort(groups.right))\n",
    "    return [...quickSort(groups.left), pivot, ...quickSort(groups.right)]\n",
    "}"
   ]
  },
  {
   "cell_type": "code",
   "execution_count": null,
   "metadata": {},
   "outputs": [],
   "source": [
    "qs(www)"
   ]
  },
  {
   "cell_type": "code",
   "execution_count": null,
   "metadata": {},
   "outputs": [],
   "source": [
    "quicksort(www)"
   ]
  },
  {
   "cell_type": "code",
   "execution_count": null,
   "metadata": {
    "collapsed": true
   },
   "outputs": [],
   "source": [
    "var array = [9, 2, 5, 6, 4, 3, 7, 10, 1, 8];\n",
    "\n",
    "function insertionSort(array) {\n",
    "  for(var i = 0; i < array.length; i++) {\n",
    "    var temp = array[i];\n",
    "    var j = i - 1;\n",
    "    while (j >= 0 && array[j] > temp) {\n",
    "      array[j + 1] = array[j];\n",
    "      j--;\n",
    "    }\n",
    "    array[j + 1] = temp;\n",
    "  }\n",
    "  return array;\n",
    "}\n"
   ]
  },
  {
   "cell_type": "code",
   "execution_count": null,
   "metadata": {},
   "outputs": [],
   "source": [
    "insertionSort(array)"
   ]
  },
  {
   "cell_type": "code",
   "execution_count": null,
   "metadata": {},
   "outputs": [],
   "source": [
    "var nums = [5,3,7,8,9,2,1]\n",
    "\n",
    "function insertsort(arr){\n",
    "    for (var i = 0; i < arr.length; i++){\n",
    "        if (arr[i] < arr[i-1]){\n",
    "            for (var j = arr[i-1]; j >=0; j--){\n",
    "                if (arr[i] >= arr[j]){\n",
    "                    arr.splice(arr[j], 0, arr[i]);\n",
    "                }\n",
    "                else{\n",
    "                    //arr[j] = arr[i]\n",
    "                    console.log(arr)\n",
    "                }\n",
    "            }\n",
    "        }\n",
    "    }\n",
    "    return arr\n",
    "}"
   ]
  },
  {
   "cell_type": "code",
   "execution_count": null,
   "metadata": {},
   "outputs": [],
   "source": [
    "console.log(nums)\n",
    "insertsort(nums)"
   ]
  },
  {
   "cell_type": "code",
   "execution_count": null,
   "metadata": {
    "collapsed": true
   },
   "outputs": [],
   "source": [
    "function insertionSort2(arr){\n",
    "    for (let i = 1; len arr.length; i <len; i++){\n",
    "        let current = 0;\n",
    "        let compareIndex = 0;\n",
    "     \n",
    "        while( compareIndex >=0 && arr[compareIndex]>curr){\n",
    "            arr[compareIndex+1] = arr[compareIndex]\n",
    "            compareIndex--;\n",
    "        }\n",
    "        arr[compareIndex+1] = current\n",
    "    }\n",
    "    return arr;\n",
    "}"
   ]
  },
  {
   "cell_type": "code",
   "execution_count": 3,
   "metadata": {
    "collapsed": true
   },
   "outputs": [],
   "source": [
    "function selectionSort(arr){\n",
    "    //loop through the array array.length-1 times\n",
    "    //iterate through array\n",
    "    //first number is current, then compare each position against this current\n",
    "    //if number < current, replace current with new number and record swapped position\n",
    "    //at the end of the array, swap first number in this iteration with position of current min\n",
    "    \n",
    "    for (let i = 0; len = arr.length, i< len; i++){\n",
    "        let curMinValue = i;\n",
    "        \n",
    "        for (let j = 0; len = arr.length, j< len; j++){\n",
    "            if(arr[j] < arr[i]){\n",
    "                curMinimum = j;\n",
    "            }\n",
    "        }\n",
    "        let lower = arr[i];\n",
    "        arr[i] = arr[curMinimum];\n",
    "        arr[curMinimum] = lower\n",
    "        \n",
    "    }\n",
    "    \n",
    "    return arr\n",
    "}"
   ]
  },
  {
   "cell_type": "code",
   "execution_count": 4,
   "metadata": {},
   "outputs": [
    {
     "data": {
      "text/plain": [
       "[ 3, 4, 5, 6, 2 ]"
      ]
     },
     "execution_count": 4,
     "metadata": {},
     "output_type": "execute_result"
    }
   ],
   "source": [
    "var aa = [4,5,2,6,3]\n",
    "selectionSort(aa)"
   ]
  },
  {
   "cell_type": "code",
   "execution_count": null,
   "metadata": {
    "collapsed": true
   },
   "outputs": [],
   "source": [
    "function mergeSort(arr){\n",
    "    //keep splitting array in half until basecase len <= 1;\n",
    "    if (arr.length <= 1) return arr;\n",
    "    \n",
    "    let half = Math.floor(arr.length/2);\n",
    "    let left = slice(0, half);\n",
    "    let right = slice(half, arr.length);\n",
    "    left joined = [];\n",
    "    \n",
    "    \n",
    "    //return [...mergeSort(left), ...mergeSort(right)];\n",
    "    while(left.length !== 0 && right.length !== 0){\n",
    "        if (left[0] < right[0]){\n",
    "            joined.push(left[0]\n",
    "            left.shift()\n",
    "        }else{\n",
    "            joined.push(right[0])\n",
    "            right.shift();\n",
    "        }\n",
    "    }\n",
    "}"
   ]
  }
 ],
 "metadata": {
  "kernelspec": {
   "display_name": "Javascript (Node.js)",
   "language": "javascript",
   "name": "javascript"
  },
  "language_info": {
   "file_extension": ".js",
   "mimetype": "application/javascript",
   "name": "javascript",
   "version": "6.9.5"
  }
 },
 "nbformat": 4,
 "nbformat_minor": 2
}
