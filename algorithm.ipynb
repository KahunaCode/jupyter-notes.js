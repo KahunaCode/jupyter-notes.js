{
 "cells": [
  {
   "cell_type": "markdown",
   "metadata": {},
   "source": [
    "http://slides.com/devleague/big-o\n",
    "\n",
    "algorithm is a set of instructions that:\n",
    " - prepare data\n",
    " - describe steps\n",
    " - return data\n"
   ]
  },
  {
   "cell_type": "markdown",
   "metadata": {},
   "source": [
    "O(1) - constant time. always exectutes in same time regardless of input data size.  \n",
    "\n",
    "e.g.accessing an array element takes constant time\n",
    "  \n",
    "O(n) - linear complexity. performance grows at direct proportion to size of input dataset.\n",
    "e.g. looping through an array\n",
    "\n",
    "O(n^2) - quadratic time, \"n squared\". performance is square of the input data set\n",
    "\n",
    "O(2^n) - growth curve is exponential. 2 to the Nth, exponential time\n",
    "\n",
    "O(log n) - log time are highly efficient, often seen with binary trees or binary search\n",
    "\n",
    "O(n^n) - \"the worst\" n-factorial "
   ]
  },
  {
   "cell_type": "markdown",
   "metadata": {},
   "source": [
    "www.sorting.at\n",
    "http://bigocheatsheet.com/"
   ]
  },
  {
   "cell_type": "code",
   "execution_count": 115,
   "metadata": {
    "collapsed": true
   },
   "outputs": [],
   "source": [
    "var nums1 = [9,1,3,5,6,3,4,2]\n"
   ]
  },
  {
   "cell_type": "code",
   "execution_count": 116,
   "metadata": {},
   "outputs": [],
   "source": [
    "function bbs(tosort){\n",
    "    for (var i = 0; i < tosort.length; i++){\n",
    "        for (var j = 0; j < tosort.length; j++){\n",
    "            if (tosort[i] < tosort[j]) {\n",
    "                var tt = tosort[i];\n",
    "                tosort[i] = tosort[j];\n",
    "                tosort[j] = tt;\n",
    "            }\n",
    "        }\n",
    "    }\n",
    "    return tosort\n",
    "}"
   ]
  },
  {
   "cell_type": "code",
   "execution_count": 117,
   "metadata": {},
   "outputs": [
    {
     "data": {
      "text/plain": [
       "[ 1, 2, 3, 3, 4, 5, 6, 9 ]"
      ]
     },
     "execution_count": 117,
     "metadata": {},
     "output_type": "execute_result"
    }
   ],
   "source": [
    "bbs(nums1)"
   ]
  },
  {
   "cell_type": "code",
   "execution_count": 78,
   "metadata": {},
   "outputs": [
    {
     "data": {
      "text/plain": [
       "[ 1, 2, 3, 4, 5, 6, 9, 12 ]"
      ]
     },
     "execution_count": 78,
     "metadata": {},
     "output_type": "execute_result"
    }
   ],
   "source": [
    "var nums = [9,1,3,5,6,12,4,2]\n",
    "\n",
    "function bbs2(aa){\n",
    "    var swap;\n",
    "    do {\n",
    "        swap = false;\n",
    "        for (var i=0; i < aa.length-1; i++) {\n",
    "            if (aa[i] > aa[i+1]) {\n",
    "                var tt = aa[i];\n",
    "                aa[i] = aa[i+1];\n",
    "                aa[i+1] = tt;\n",
    "                swap = true;\n",
    "            }\n",
    "        }\n",
    "    } while (swap);\n",
    "    return aa\n",
    "}\n",
    "\n",
    "bbs2(nums);\n",
    "//console.log(nums);"
   ]
  },
  {
   "cell_type": "code",
   "execution_count": 86,
   "metadata": {},
   "outputs": [],
   "source": [
    "recs = [3,8,5,2,4,7,1]\n",
    "\n",
    "for (var i=0; i<recs.length; i++){\n",
    "    for (var j=0; j<recs.length; j++){\n",
    "        if (recs[i] < recs[j]){\n",
    "            var tt = recs[i];\n",
    "            recs[i] = recs[j];\n",
    "            recs[j] = tt;\n",
    "        }   \n",
    "    }    \n",
    "}\n"
   ]
  },
  {
   "cell_type": "code",
   "execution_count": 87,
   "metadata": {},
   "outputs": [
    {
     "data": {
      "text/plain": [
       "[ 1, 2, 3, 4, 5, 7, 8 ]"
      ]
     },
     "execution_count": 87,
     "metadata": {},
     "output_type": "execute_result"
    }
   ],
   "source": [
    "records"
   ]
  },
  {
   "cell_type": "code",
   "execution_count": null,
   "metadata": {
    "collapsed": true
   },
   "outputs": [],
   "source": []
  }
 ],
 "metadata": {
  "kernelspec": {
   "display_name": "Javascript (Node.js)",
   "language": "javascript",
   "name": "javascript"
  },
  "language_info": {
   "file_extension": ".js",
   "mimetype": "application/javascript",
   "name": "javascript",
   "version": "6.9.5"
  }
 },
 "nbformat": 4,
 "nbformat_minor": 2
}
