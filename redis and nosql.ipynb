{
 "cells": [
  {
   "cell_type": "code",
   "execution_count": null,
   "metadata": {
    "collapsed": true
   },
   "outputs": [],
   "source": [
    "https://gist.github.com/senakamura/62c906c87d1a42503043a17ccd615e66\n",
    "http://slides.com/devleague/nosql/"
   ]
  },
  {
   "cell_type": "code",
   "execution_count": null,
   "metadata": {
    "collapsed": true
   },
   "outputs": [],
   "source": [
    "//redis ia a key value store\n",
    "\n",
    "\n",
    "//basic redis commands\n",
    "SET name \"jason\"\n",
    "GET name\n",
    "\n",
    "//returns all keys\n",
    "KEYS *\n",
    "\n",
    "//store \"object like data\" with hash set and get\n",
    "HSET human name \"ray\"\n",
    "HGET human name\n",
    ">>\"ray\"\n",
    "\n",
    "HSET human age \"12\"\n",
    "HGET human age\n",
    ">>12\n",
    "\n",
    "HKEYS human\n",
    ">>1- \"name\"\n",
    ">>2- \"age\"\n",
    "\n",
    "//increment and decrement\n",
    "set hotdogsEaten 1\n",
    "get hotdogsEaten \n",
    ">>1\n",
    "\n",
    "set hotdogsEaten 2\n",
    "get hotdogsEaten\n",
    ">>2\n",
    "\n",
    "incr hotdogsEaten\n",
    "get hotdogsEaten\n",
    ">>3\n",
    "\n",
    "decr hotdogsEaten\n",
    "get hotdogsEaten\n",
    ">>2\n",
    "    "
   ]
  }
 ],
 "metadata": {
  "kernelspec": {
   "display_name": "Javascript (Node.js)",
   "language": "javascript",
   "name": "javascript"
  },
  "language_info": {
   "file_extension": ".js",
   "mimetype": "application/javascript",
   "name": "javascript",
   "version": "6.9.5"
  }
 },
 "nbformat": 4,
 "nbformat_minor": 2
}
