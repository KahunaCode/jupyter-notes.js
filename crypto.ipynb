{
 "cells": [
  {
   "cell_type": "code",
   "execution_count": 1,
   "metadata": {
    "collapsed": true
   },
   "outputs": [],
   "source": [
    "https://github.com/kelektiv/node.bcrypt.js\n",
    "\n",
    "//three good rules for hashes\n",
    "//1- same input always produces same output\n",
    "//2- minor change of input produces very different output\n",
    "//3- fast\n",
    "//4- one way\n",
    "//5- consistent bit length\n",
    "//6- crypto hashes are intentionally not fast to circumvent brute forcing\n"
   ]
  },
  {
   "cell_type": "code",
   "execution_count": 3,
   "metadata": {},
   "outputs": [],
   "source": [
    "//md5 is only for verification, is not secure\n",
    "\n",
    "md5 -s \"car\"\n",
    "//MD5 (\"car\") = e6d96502596d7e7887b76646c5f615d9\n"
   ]
  },
  {
   "cell_type": "code",
   "execution_count": 4,
   "metadata": {
    "collapsed": true
   },
   "outputs": [],
   "source": [
    "// other notes:\n",
    "// also good for comparing files before and after. you can \"hash\" the file and pass the hash\n",
    "// to confirm that the data transferred correctly without errors or muddling/hacking\n",
    "\n",
    "//hashes are one way: input >> output"
   ]
  },
  {
   "cell_type": "code",
   "execution_count": 5,
   "metadata": {
    "collapsed": true
   },
   "outputs": [],
   "source": [
    "//shasum-- similar to md5. also breakable "
   ]
  },
  {
   "cell_type": "code",
   "execution_count": null,
   "metadata": {
    "collapsed": true
   },
   "outputs": [],
   "source": []
  }
 ],
 "metadata": {
  "kernelspec": {
   "display_name": "Javascript (Node.js)",
   "language": "javascript",
   "name": "javascript"
  },
  "language_info": {
   "file_extension": ".js",
   "mimetype": "application/javascript",
   "name": "javascript",
   "version": "6.9.5"
  }
 },
 "nbformat": 4,
 "nbformat_minor": 2
}
