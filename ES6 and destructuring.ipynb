{
 "cells": [
  {
   "cell_type": "code",
   "execution_count": null,
   "metadata": {
    "collapsed": true
   },
   "outputs": [],
   "source": [
    "function myMapFunc(){ }\n",
    "const myMapFunc = () => { }\n",
    "\n",
    "function myMapFunc2(arg1){ }\n",
    "const myMapFunc2 = (arg1) => { }\n",
    "const myMapFunc2 = arg1 => { }\n",
    "\n",
    "function myMapFunc3(arg1, arg2){ }\n",
    "const myMapFunc3 = (arg1, arg2) => { }\n",
    "\n",
    "function myAddFunc4(arg1, arg2){\n",
    "  return arg1 + arg2;\n",
    "}\n",
    "const myAddFunc4 = (arg1, arg2) => {\n",
    "  return arg1 + arg2;\n",
    "}\n",
    "// implicit return \n",
    "// if all you do is return, you don't need a block statement {} and omit the `return` keyword\n",
    "const myAddFunc4 = (arg1, arg2) => arg1 + arg2;\n",
    "\n",
    "function myNewObj( name ){\n",
    "  return {\n",
    "    name : name\n",
    "  };\n",
    "}\n",
    "const myNewObj = name => {\n",
    "  return {\n",
    "    name : name\n",
    "  };\n",
    "}\n",
    "const myNewObj = name => ({\n",
    "  name : name\n",
    "});\n",
    "const myNewObj = name => ({ name });\n",
    "\n",
    "const myObj = {\n",
    "  name : \"jon\",\n",
    "  age : 34\n",
    "};\n",
    "\n",
    "function getName( myObj ){\n",
    "  return myObj.name;\n",
    "}\n",
    "function getName( { name } ){\n",
    "  return name;\n",
    "}\n",
    "const getName = obj => obj.name;\n",
    "const getName = ({ name }) => name;"
   ]
  }
 ],
 "metadata": {
  "kernelspec": {
   "display_name": "Javascript (Node.js)",
   "language": "javascript",
   "name": "javascript"
  },
  "language_info": {
   "file_extension": ".js",
   "mimetype": "application/javascript",
   "name": "javascript",
   "version": "6.9.5"
  }
 },
 "nbformat": 4,
 "nbformat_minor": 2
}
