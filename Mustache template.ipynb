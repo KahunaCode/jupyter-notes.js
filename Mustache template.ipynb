{
 "cells": [
  {
   "cell_type": "code",
   "execution_count": null,
   "metadata": {
    "collapsed": true
   },
   "outputs": [],
   "source": [
    "//http://slides.com/devleague/handlebars"
   ]
  },
  {
   "cell_type": "markdown",
   "metadata": {},
   "source": [
    "logicless templating language, used to render html with content and features.\n",
    "can help with readability and organization of your front end markup\n"
   ]
  },
  {
   "cell_type": "markdown",
   "metadata": {},
   "source": [
    "\"keep the view, view\"- html is going to be seperated, no js modifying the html.\n"
   ]
  },
  {
   "cell_type": "markdown",
   "metadata": {},
   "source": [
    "\"partials\" - componentize HTML similar to module patterns in JS. you can \"call\" a partial and add it to the main .hbs file"
   ]
  },
  {
   "cell_type": "markdown",
   "metadata": {},
   "source": [
    "views file structure- inside the \"views\" dir, store all the handlebar files. layouts dir is \"skeleton\" base template, usually apps.hbs "
   ]
  },
  {
   "cell_type": "markdown",
   "metadata": {},
   "source": [
    "built in helpers- iterators"
   ]
  }
 ],
 "metadata": {
  "kernelspec": {
   "display_name": "Javascript (Node.js)",
   "language": "javascript",
   "name": "javascript"
  },
  "language_info": {
   "file_extension": ".js",
   "mimetype": "application/javascript",
   "name": "javascript",
   "version": "6.9.5"
  }
 },
 "nbformat": 4,
 "nbformat_minor": 2
}
