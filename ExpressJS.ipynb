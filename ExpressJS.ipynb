{
 "cells": [
  {
   "cell_type": "code",
   "execution_count": null,
   "metadata": {
    "collapsed": true
   },
   "outputs": [],
   "source": [
    "//http://slides.com/devleague/express-yourself-deux\n",
    "\n",
    "//http://slides.com/devleague/express-middleware#/\n",
    "\n",
    "//web application framework.\n",
    "//frameworks are \"opinionated\", meaning do it their way or tough shit"
   ]
  },
  {
   "cell_type": "code",
   "execution_count": null,
   "metadata": {
    "collapsed": true
   },
   "outputs": [],
   "source": [
    "//provides a basic structure that support commonalities of web app components\n",
    "//http/https, routing, sessions, cookies, templates..."
   ]
  },
  {
   "cell_type": "code",
   "execution_count": null,
   "metadata": {
    "collapsed": true
   },
   "outputs": [],
   "source": [
    "//to start express:\n",
    "    //npm init\n",
    "    //npm install express --save\n"
   ]
  },
  {
   "cell_type": "code",
   "execution_count": null,
   "metadata": {
    "collapsed": true
   },
   "outputs": [],
   "source": [
    "const express = require(\"express\");\n",
    "const app = express();\n",
    "\n",
    "app.get('/', function(request, response){\n",
    "  response.send('hello world');\n",
    "});\n",
    "\n",
    "app.get('/about', function(request, response){\n",
    "  response.send('this is my about message');\n",
    "\n",
    "const server = app.listen(3000, function(){\n",
    "  var host = server.address().address;\n",
    "  var post = server.address().port;\n",
    "\n",
    "  console.log('server running on ${host} : ${port}');\n",
    "});"
   ]
  },
  {
   "cell_type": "code",
   "execution_count": null,
   "metadata": {
    "collapsed": true
   },
   "outputs": [],
   "source": [
    "//serving static files... css, basic html pages, images, etc...\n",
    "\n",
    "app.use(express.static('public'))//this is a folder"
   ]
  },
  {
   "cell_type": "code",
   "execution_count": null,
   "metadata": {
    "collapsed": true
   },
   "outputs": [],
   "source": [
    "//routing \n",
    "\n",
    "var food = ['apple', 'orange', 'pizza']\n",
    "\n",
    "app.route('/food')\n",
    "    .get(function(req,res){\n",
    "    res.send(food)\n",
    "    })\n",
    "    .post(function(req,res){\n",
    "    food.push(req.payload)\n",
    "    });\n",
    "\n",
    "app.get('/users/:id', (req,res) => {\n",
    "    res.send(req.params.id)\n",
    "})\n",
    "\n",
    "//curl localhost:3000/users/1 ... and you'll get back \"1\"\n"
   ]
  },
  {
   "cell_type": "code",
   "execution_count": null,
   "metadata": {
    "collapsed": true
   },
   "outputs": [],
   "source": [
    "//responses ... res.download(), res.send(), res.. . . ."
   ]
  },
  {
   "cell_type": "code",
   "execution_count": null,
   "metadata": {
    "collapsed": true
   },
   "outputs": [],
   "source": [
    "//middleware\n",
    "\n",
    "app.get('/', addName, (req,res)=>{\n",
    "    res.end()\n",
    "})\n",
    "\n",
    "function addName(res, req, next){\n",
    "    console.log('james')\n",
    "    next()\n",
    "}"
   ]
  },
  {
   "cell_type": "code",
   "execution_count": null,
   "metadata": {
    "collapsed": true
   },
   "outputs": [],
   "source": [
    "//router example in two files\n",
    "\n",
    "    //first file\n",
    "const express = require(\"express\");\n",
    "const app = express();\n",
    "const foodRoutes = require(\"./routes/food.js\");\n",
    "\n",
    "app.use('/food', foodRoutes);\n",
    "\n",
    "const server = app.listen(3000, function(){\n",
    "  var host = server.address().address;\n",
    "  var post = server.address().port;\n",
    "\n",
    "  console.log(`server running ${host}`);\n",
    "});\n",
    "\n",
    "    \n",
    "\n",
    "    //second file\n",
    "const express = require(\"express\");\n",
    "const router = express.Router();\n",
    "\n",
    "router.route('/')\n",
    "  .get((req, res) => {\n",
    "    console.log('pinged the food route');\n",
    "    res.end();\n",
    "  });\n",
    "\n",
    "  module.exports = router;\n",
    "\n",
    "\n",
    "    //curl localhost:3000/food\n",
    "    //>> pinged the food route\n",
    "\n"
   ]
  }
 ],
 "metadata": {
  "kernelspec": {
   "display_name": "Javascript (Node.js)",
   "language": "javascript",
   "name": "javascript"
  },
  "language_info": {
   "file_extension": ".js",
   "mimetype": "application/javascript",
   "name": "javascript",
   "version": "6.9.5"
  }
 },
 "nbformat": 4,
 "nbformat_minor": 2
}
