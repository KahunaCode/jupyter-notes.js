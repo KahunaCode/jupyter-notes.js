{
 "cells": [
  {
   "cell_type": "code",
   "execution_count": null,
   "metadata": {
    "collapsed": true
   },
   "outputs": [],
   "source": [
    "//http://slides.com/devleague/express-yourself-deux\n",
    "\n",
    "//http://slides.com/devleague/express-middleware#/\n",
    "\n",
    "//web application framework.\n",
    "//frameworks are \"opinionated\", meaning do it their way or tough shit"
   ]
  },
  {
   "cell_type": "markdown",
   "metadata": {},
   "source": [
    "http sever for node.js to build api's or to build classic web applications. "
   ]
  },
  {
   "cell_type": "code",
   "execution_count": null,
   "metadata": {
    "collapsed": true
   },
   "outputs": [],
   "source": [
    "//provides a basic structure that support commonalities of web app components\n",
    "//http/https, routing, sessions, cookies, templates..."
   ]
  },
  {
   "cell_type": "code",
   "execution_count": null,
   "metadata": {
    "collapsed": true
   },
   "outputs": [],
   "source": [
    "//to start express:\n",
    "    //npm init\n",
    "    //npm install express --save\n",
    "        \n",
    "//in code, basics:\n",
    "        //const express = require('express')\n",
    "        //const app = express()\n",
    "\n",
    "        //const PORT = process.env.PORT || 3000\n",
    "        //const server = app.listen(PORT, () =>{\n",
    "            //console.log('listening on ${PORT}')\n",
    "        //})\n"
   ]
  },
  {
   "cell_type": "code",
   "execution_count": null,
   "metadata": {
    "collapsed": true
   },
   "outputs": [],
   "source": [
    "const express = require(\"express\");\n",
    "const app = express();\n",
    "\n",
    "app.get('/', function(request, response){\n",
    "  response.send('hello world');\n",
    "});\n",
    "\n",
    "app.get('/about', function(request, response){\n",
    "  response.send('this is my about message');\n",
    "\n",
    "const server = app.listen(3000, function(){\n",
    "  var host = server.address().address;\n",
    "  var post = server.address().port;\n",
    "\n",
    "  console.log('server running on ${host} : ${port}');\n",
    "});"
   ]
  },
  {
   "cell_type": "code",
   "execution_count": null,
   "metadata": {
    "collapsed": true
   },
   "outputs": [],
   "source": [
    "//serving static files... css, basic html pages, images, etc...\n",
    "\n",
    "app.use(express.static('public'))//this is a folder"
   ]
  },
  {
   "cell_type": "code",
   "execution_count": null,
   "metadata": {
    "collapsed": true
   },
   "outputs": [],
   "source": [
    "//routing \n",
    "\n",
    "var food = ['apple', 'orange', 'pizza']\n",
    "\n",
    "app.route('/food')\n",
    "    .get(function(req,res){\n",
    "    res.send(food)\n",
    "    })\n",
    "    .post(function(req,res){\n",
    "    food.push(req.payload)\n",
    "    });\n",
    "\n",
    "app.get('/users/:id', (req,res) => {\n",
    "    res.send(req.params.id)\n",
    "})\n",
    "\n",
    "//curl localhost:3000/users/1 ... and you'll get back \"1\"\n"
   ]
  },
  {
   "cell_type": "code",
   "execution_count": null,
   "metadata": {
    "collapsed": true
   },
   "outputs": [],
   "source": [
    "//responses ... res.download(), res.send(), res.. . . ."
   ]
  },
  {
   "cell_type": "code",
   "execution_count": null,
   "metadata": {
    "collapsed": true
   },
   "outputs": [],
   "source": [
    "//middleware\n",
    "\n",
    "app.get('/', addName, (req,res)=>{\n",
    "    res.end()\n",
    "})\n",
    "\n",
    "function addName(res, req, next){\n",
    "    console.log('james')\n",
    "    next()\n",
    "}"
   ]
  },
  {
   "cell_type": "code",
   "execution_count": null,
   "metadata": {
    "collapsed": true
   },
   "outputs": [],
   "source": [
    "//router example in two files\n",
    "\n",
    "    //first file\n",
    "const express = require(\"express\");\n",
    "const app = express();\n",
    "const foodRoutes = require(\"./routes/food.js\");\n",
    "\n",
    "app.use('/food', foodRoutes);\n",
    "\n",
    "const server = app.listen(3000, function(){\n",
    "  var host = server.address().address;\n",
    "  var post = server.address().port;\n",
    "\n",
    "  console.log(`server running ${host}`);\n",
    "});\n",
    "\n",
    "    \n",
    "\n",
    "    //second file\n",
    "const express = require(\"express\");\n",
    "const router = express.Router();\n",
    "\n",
    "router.route('/')\n",
    "  .get((req, res) => {\n",
    "    console.log('pinged the food route');\n",
    "    res.end();\n",
    "  });\n",
    "\n",
    "  module.exports = router;\n",
    "\n",
    "\n",
    "    //curl localhost:3000/food\n",
    "    //>> pinged the food route\n",
    "\n"
   ]
  },
  {
   "cell_type": "code",
   "execution_count": 3,
   "metadata": {
    "collapsed": true
   },
   "outputs": [],
   "source": [
    "//another middleware example\n",
    "\n",
    "function validateTacoName(req,res,next){\n",
    "    if(req.body.name.split(' ').length >2){\n",
    "        next();\n",
    "    }else{\n",
    "        res.send(\"nope, must be two words or less\")\n",
    "    }\n",
    "}\n",
    "\n",
    "function tacoValidation(req,res,next){\n",
    "    if (req.body.name){\n",
    "        next();\n",
    "    }else{\n",
    "        res.send(\"doesn't have property: name\")\n",
    "    }\n",
    "}"
   ]
  },
  {
   "cell_type": "code",
   "execution_count": 5,
   "metadata": {},
   "outputs": [
    {
     "data": {
      "text/plain": [
       "ClientRequest {\n",
       "  domain: null,\n",
       "  _events: \n",
       "   { response: { [Function: g] listener: [Function] },\n",
       "     socket: { [Function: g] listener: [Function: onSocket] } },\n",
       "  _eventsCount: 2,\n",
       "  _maxListeners: undefined,\n",
       "  output: [ 'GET /tacos HTTP/1.1\\r\\nHost: 10.0.1.24:3000\\r\\nConnection: close\\r\\n\\r\\n' ],\n",
       "  outputEncodings: [ 'latin1' ],\n",
       "  outputCallbacks: [ [Function: finish] ],\n",
       "  outputSize: 64,\n",
       "  writable: true,\n",
       "  _last: true,\n",
       "  upgrading: false,\n",
       "  chunkedEncoding: false,\n",
       "  shouldKeepAlive: false,\n",
       "  useChunkedEncodingByDefault: false,\n",
       "  sendDate: false,\n",
       "  _removedHeader: {},\n",
       "  _contentLength: 0,\n",
       "  _hasBody: true,\n",
       "  _trailer: '',\n",
       "  finished: true,\n",
       "  _headerSent: true,\n",
       "  socket: null,\n",
       "  connection: null,\n",
       "  _header: 'GET /tacos HTTP/1.1\\r\\nHost: 10.0.1.24:3000\\r\\nConnection: close\\r\\n\\r\\n',\n",
       "  _headers: { host: '10.0.1.24:3000' },\n",
       "  _headerNames: { host: 'Host' },\n",
       "  _onPendingData: null,\n",
       "  agent: \n",
       "   Agent {\n",
       "     domain: null,\n",
       "     _events: { free: [Function] },\n",
       "     _eventsCount: 1,\n",
       "     _maxListeners: undefined,\n",
       "     defaultPort: 80,\n",
       "     protocol: 'http:',\n",
       "     options: { path: null },\n",
       "     requests: {},\n",
       "     sockets: { '10.0.1.24:3000:': [Object] },\n",
       "     freeSockets: {},\n",
       "     keepAliveMsecs: 1000,\n",
       "     keepAlive: false,\n",
       "     maxSockets: Infinity,\n",
       "     maxFreeSockets: 256 },\n",
       "  socketPath: undefined,\n",
       "  timeout: undefined,\n",
       "  method: 'GET',\n",
       "  path: '/tacos',\n",
       "  _ended: false }"
      ]
     },
     "execution_count": 5,
     "metadata": {},
     "output_type": "execute_result"
    },
    {
     "name": "stdout",
     "output_type": "stream",
     "text": [
      "[\"mucho taco\",\"pork carnitas\",\"stuffed tacos\",\"stuffed tacos\",\"stuffed tacos\",\"stuffed tacos\",\"stuffed tacos\",\"stuffed tacos\",\"stuffed tacos\",\"stuffed tacos\",\"stuffed tacos\",\"mucho taco\",\"stuffed tacos\",\"mucho taco\",\"stuffed tacos\",\"stuffed tacos\",\"cheese\",\"1-taco\",\"hot sauce\",\"adslkfj\"]\n"
     ]
    }
   ],
   "source": [
    "//node XHR requests\n",
    "const http = require('http');\n",
    "\n",
    "http.get('http://10.0.1.24:3000/tacos', (res) => {\n",
    "    let data = '';\n",
    "    res.on('data', (chunk) => {\n",
    "        data+=chunk;\n",
    "    })\n",
    "    res.on('end', () => {\n",
    "        console.log(data)\n",
    "    })\n",
    "})"
   ]
  },
  {
   "cell_type": "code",
   "execution_count": null,
   "metadata": {
    "collapsed": true
   },
   "outputs": [],
   "source": []
  }
 ],
 "metadata": {
  "kernelspec": {
   "display_name": "Javascript (Node.js)",
   "language": "javascript",
   "name": "javascript"
  },
  "language_info": {
   "file_extension": ".js",
   "mimetype": "application/javascript",
   "name": "javascript",
   "version": "6.9.5"
  }
 },
 "nbformat": 4,
 "nbformat_minor": 2
}
