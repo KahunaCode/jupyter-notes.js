{
 "cells": [
  {
   "cell_type": "code",
   "execution_count": null,
   "metadata": {
    "collapsed": true
   },
   "outputs": [],
   "source": [
    "expect(function () {groceryList.addItem(cereal)}).to.throw(Error);"
   ]
  },
  {
   "cell_type": "code",
   "execution_count": null,
   "metadata": {
    "collapsed": true
   },
   "outputs": [],
   "source": [
    "expect(groceryList.items).to.not.include(cereal)"
   ]
  },
  {
   "cell_type": "code",
   "execution_count": null,
   "metadata": {
    "collapsed": true
   },
   "outputs": [],
   "source": [
    "//in render shoppingList, added an ID to the render()\n",
    "\n",
    "render(id){//shoppingListItem\n",
    "    return `<li id=${id}...`\n",
    "    ... `<input type=\"checkbox\" ${this.finished ? 'checked' : \"\"}>`\n",
    "}\n",
    "\n",
    "...\n",
    "\n",
    "var allItems = document.selector.querySelectorAll(\".grocery-item input\")//input shows child el\n",
    "\n",
    "for (var i = 0; allItems.length; i++){\n",
    "    allItems[i].addEventListener(\"change\", function (event){\n",
    "        //console.log(event.target.parentNode.id);\n",
    "        var itemId = event.target.parentNode.id;\n",
    "        groceryList.item[itemId].checked();\n",
    "    })\n",
    "}\n",
    "\n"
   ]
  }
 ],
 "metadata": {
  "kernelspec": {
   "display_name": "Javascript (Node.js)",
   "language": "javascript",
   "name": "javascript"
  },
  "language_info": {
   "file_extension": ".js",
   "mimetype": "application/javascript",
   "name": "javascript",
   "version": "6.9.5"
  }
 },
 "nbformat": 4,
 "nbformat_minor": 2
}
